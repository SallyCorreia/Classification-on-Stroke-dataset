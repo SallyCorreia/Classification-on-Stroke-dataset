{
 "cells": [
  {
   "cell_type": "code",
   "execution_count": null,
   "metadata": {},
   "outputs": [],
   "source": [
    "#We import following Libraries:\n",
    "#numpy:to perform mathematical tasks.it stands for numerical python.\n",
    "#pandas:sed for data cleaning,manipulation and Analysis.\n",
    "#matplotlib.pyplot:it is udsed for plotting graphs.\n",
    "#seaborn:used for data visualization."
   ]
  },
  {
   "cell_type": "code",
   "execution_count": 103,
   "metadata": {},
   "outputs": [],
   "source": [
    "#The data set that i have taken is a stroke dataset where 1=person is suffering from stroke has occured and 0=person is not suffering stroke."
   ]
  },
  {
   "cell_type": "code",
   "execution_count": 1,
   "metadata": {},
   "outputs": [],
   "source": [
    "import numpy as np\n",
    "import pandas as pd\n",
    "import matplotlib.pyplot as plt\n",
    "import seaborn as sns"
   ]
  },
  {
   "cell_type": "markdown",
   "metadata": {},
   "source": [
    "# Importing Dataset"
   ]
  },
  {
   "cell_type": "code",
   "execution_count": 2,
   "metadata": {},
   "outputs": [
    {
     "data": {
      "text/html": [
       "<div>\n",
       "<style scoped>\n",
       "    .dataframe tbody tr th:only-of-type {\n",
       "        vertical-align: middle;\n",
       "    }\n",
       "\n",
       "    .dataframe tbody tr th {\n",
       "        vertical-align: top;\n",
       "    }\n",
       "\n",
       "    .dataframe thead th {\n",
       "        text-align: right;\n",
       "    }\n",
       "</style>\n",
       "<table border=\"1\" class=\"dataframe\">\n",
       "  <thead>\n",
       "    <tr style=\"text-align: right;\">\n",
       "      <th></th>\n",
       "      <th>id</th>\n",
       "      <th>gender</th>\n",
       "      <th>age</th>\n",
       "      <th>hypertension</th>\n",
       "      <th>heart_disease</th>\n",
       "      <th>ever_married</th>\n",
       "      <th>work_type</th>\n",
       "      <th>Residence_type</th>\n",
       "      <th>avg_glucose_level</th>\n",
       "      <th>bmi</th>\n",
       "      <th>smoking_status</th>\n",
       "      <th>stroke</th>\n",
       "    </tr>\n",
       "  </thead>\n",
       "  <tbody>\n",
       "    <tr>\n",
       "      <th>0</th>\n",
       "      <td>9046</td>\n",
       "      <td>Male</td>\n",
       "      <td>67.0</td>\n",
       "      <td>0</td>\n",
       "      <td>1</td>\n",
       "      <td>Yes</td>\n",
       "      <td>Private</td>\n",
       "      <td>Urban</td>\n",
       "      <td>228.69</td>\n",
       "      <td>36.6</td>\n",
       "      <td>formerly smoked</td>\n",
       "      <td>1</td>\n",
       "    </tr>\n",
       "    <tr>\n",
       "      <th>1</th>\n",
       "      <td>51676</td>\n",
       "      <td>Female</td>\n",
       "      <td>61.0</td>\n",
       "      <td>0</td>\n",
       "      <td>0</td>\n",
       "      <td>Yes</td>\n",
       "      <td>Self-employed</td>\n",
       "      <td>Rural</td>\n",
       "      <td>202.21</td>\n",
       "      <td>NaN</td>\n",
       "      <td>never smoked</td>\n",
       "      <td>1</td>\n",
       "    </tr>\n",
       "    <tr>\n",
       "      <th>2</th>\n",
       "      <td>31112</td>\n",
       "      <td>Male</td>\n",
       "      <td>80.0</td>\n",
       "      <td>0</td>\n",
       "      <td>1</td>\n",
       "      <td>Yes</td>\n",
       "      <td>Private</td>\n",
       "      <td>Rural</td>\n",
       "      <td>105.92</td>\n",
       "      <td>32.5</td>\n",
       "      <td>never smoked</td>\n",
       "      <td>1</td>\n",
       "    </tr>\n",
       "    <tr>\n",
       "      <th>3</th>\n",
       "      <td>60182</td>\n",
       "      <td>Female</td>\n",
       "      <td>49.0</td>\n",
       "      <td>0</td>\n",
       "      <td>0</td>\n",
       "      <td>Yes</td>\n",
       "      <td>Private</td>\n",
       "      <td>Urban</td>\n",
       "      <td>171.23</td>\n",
       "      <td>34.4</td>\n",
       "      <td>smokes</td>\n",
       "      <td>1</td>\n",
       "    </tr>\n",
       "    <tr>\n",
       "      <th>4</th>\n",
       "      <td>1665</td>\n",
       "      <td>Female</td>\n",
       "      <td>79.0</td>\n",
       "      <td>1</td>\n",
       "      <td>0</td>\n",
       "      <td>Yes</td>\n",
       "      <td>Self-employed</td>\n",
       "      <td>Rural</td>\n",
       "      <td>174.12</td>\n",
       "      <td>24.0</td>\n",
       "      <td>never smoked</td>\n",
       "      <td>1</td>\n",
       "    </tr>\n",
       "  </tbody>\n",
       "</table>\n",
       "</div>"
      ],
      "text/plain": [
       "      id  gender   age  hypertension  heart_disease ever_married  \\\n",
       "0   9046    Male  67.0             0              1          Yes   \n",
       "1  51676  Female  61.0             0              0          Yes   \n",
       "2  31112    Male  80.0             0              1          Yes   \n",
       "3  60182  Female  49.0             0              0          Yes   \n",
       "4   1665  Female  79.0             1              0          Yes   \n",
       "\n",
       "       work_type Residence_type  avg_glucose_level   bmi   smoking_status  \\\n",
       "0        Private          Urban             228.69  36.6  formerly smoked   \n",
       "1  Self-employed          Rural             202.21   NaN     never smoked   \n",
       "2        Private          Rural             105.92  32.5     never smoked   \n",
       "3        Private          Urban             171.23  34.4           smokes   \n",
       "4  Self-employed          Rural             174.12  24.0     never smoked   \n",
       "\n",
       "   stroke  \n",
       "0       1  \n",
       "1       1  \n",
       "2       1  \n",
       "3       1  \n",
       "4       1  "
      ]
     },
     "execution_count": 2,
     "metadata": {},
     "output_type": "execute_result"
    }
   ],
   "source": [
    "df=pd.read_csv(\"C:\\\\Users\\\\blaise correia\\\\Documents\\\\sally\\\\sd.csv\",header=0)#here header=0 implies first row is title row\n",
    "df.head()"
   ]
  },
  {
   "cell_type": "code",
   "execution_count": 3,
   "metadata": {},
   "outputs": [
    {
     "data": {
      "text/plain": [
       "(5110, 12)"
      ]
     },
     "execution_count": 3,
     "metadata": {},
     "output_type": "execute_result"
    }
   ],
   "source": [
    "df.shape"
   ]
  },
  {
   "cell_type": "code",
   "execution_count": 4,
   "metadata": {},
   "outputs": [
    {
     "data": {
      "text/html": [
       "<div>\n",
       "<style scoped>\n",
       "    .dataframe tbody tr th:only-of-type {\n",
       "        vertical-align: middle;\n",
       "    }\n",
       "\n",
       "    .dataframe tbody tr th {\n",
       "        vertical-align: top;\n",
       "    }\n",
       "\n",
       "    .dataframe thead th {\n",
       "        text-align: right;\n",
       "    }\n",
       "</style>\n",
       "<table border=\"1\" class=\"dataframe\">\n",
       "  <thead>\n",
       "    <tr style=\"text-align: right;\">\n",
       "      <th></th>\n",
       "      <th>id</th>\n",
       "      <th>age</th>\n",
       "      <th>hypertension</th>\n",
       "      <th>heart_disease</th>\n",
       "      <th>avg_glucose_level</th>\n",
       "      <th>bmi</th>\n",
       "      <th>stroke</th>\n",
       "    </tr>\n",
       "  </thead>\n",
       "  <tbody>\n",
       "    <tr>\n",
       "      <th>count</th>\n",
       "      <td>5110.000000</td>\n",
       "      <td>5110.000000</td>\n",
       "      <td>5110.000000</td>\n",
       "      <td>5110.000000</td>\n",
       "      <td>5110.000000</td>\n",
       "      <td>4909.000000</td>\n",
       "      <td>5110.000000</td>\n",
       "    </tr>\n",
       "    <tr>\n",
       "      <th>mean</th>\n",
       "      <td>36517.829354</td>\n",
       "      <td>43.226614</td>\n",
       "      <td>0.097456</td>\n",
       "      <td>0.054012</td>\n",
       "      <td>106.147677</td>\n",
       "      <td>28.893237</td>\n",
       "      <td>0.065753</td>\n",
       "    </tr>\n",
       "    <tr>\n",
       "      <th>std</th>\n",
       "      <td>21161.721625</td>\n",
       "      <td>22.612647</td>\n",
       "      <td>0.296607</td>\n",
       "      <td>0.226063</td>\n",
       "      <td>45.283560</td>\n",
       "      <td>7.854067</td>\n",
       "      <td>0.247875</td>\n",
       "    </tr>\n",
       "    <tr>\n",
       "      <th>min</th>\n",
       "      <td>67.000000</td>\n",
       "      <td>0.080000</td>\n",
       "      <td>0.000000</td>\n",
       "      <td>0.000000</td>\n",
       "      <td>55.120000</td>\n",
       "      <td>10.300000</td>\n",
       "      <td>0.000000</td>\n",
       "    </tr>\n",
       "    <tr>\n",
       "      <th>25%</th>\n",
       "      <td>17741.250000</td>\n",
       "      <td>25.000000</td>\n",
       "      <td>0.000000</td>\n",
       "      <td>0.000000</td>\n",
       "      <td>77.245000</td>\n",
       "      <td>23.500000</td>\n",
       "      <td>0.000000</td>\n",
       "    </tr>\n",
       "    <tr>\n",
       "      <th>50%</th>\n",
       "      <td>36932.000000</td>\n",
       "      <td>45.000000</td>\n",
       "      <td>0.000000</td>\n",
       "      <td>0.000000</td>\n",
       "      <td>91.885000</td>\n",
       "      <td>28.100000</td>\n",
       "      <td>0.000000</td>\n",
       "    </tr>\n",
       "    <tr>\n",
       "      <th>75%</th>\n",
       "      <td>54682.000000</td>\n",
       "      <td>61.000000</td>\n",
       "      <td>0.000000</td>\n",
       "      <td>0.000000</td>\n",
       "      <td>114.090000</td>\n",
       "      <td>33.100000</td>\n",
       "      <td>0.000000</td>\n",
       "    </tr>\n",
       "    <tr>\n",
       "      <th>max</th>\n",
       "      <td>72940.000000</td>\n",
       "      <td>82.000000</td>\n",
       "      <td>1.000000</td>\n",
       "      <td>1.000000</td>\n",
       "      <td>271.740000</td>\n",
       "      <td>97.600000</td>\n",
       "      <td>1.000000</td>\n",
       "    </tr>\n",
       "  </tbody>\n",
       "</table>\n",
       "</div>"
      ],
      "text/plain": [
       "                 id          age  hypertension  heart_disease  \\\n",
       "count   5110.000000  5110.000000   5110.000000    5110.000000   \n",
       "mean   36517.829354    43.226614      0.097456       0.054012   \n",
       "std    21161.721625    22.612647      0.296607       0.226063   \n",
       "min       67.000000     0.080000      0.000000       0.000000   \n",
       "25%    17741.250000    25.000000      0.000000       0.000000   \n",
       "50%    36932.000000    45.000000      0.000000       0.000000   \n",
       "75%    54682.000000    61.000000      0.000000       0.000000   \n",
       "max    72940.000000    82.000000      1.000000       1.000000   \n",
       "\n",
       "       avg_glucose_level          bmi       stroke  \n",
       "count        5110.000000  4909.000000  5110.000000  \n",
       "mean          106.147677    28.893237     0.065753  \n",
       "std            45.283560     7.854067     0.247875  \n",
       "min            55.120000    10.300000     0.000000  \n",
       "25%            77.245000    23.500000     0.000000  \n",
       "50%            91.885000    28.100000     0.000000  \n",
       "75%           114.090000    33.100000     0.000000  \n",
       "max           271.740000    97.600000     1.000000  "
      ]
     },
     "execution_count": 4,
     "metadata": {},
     "output_type": "execute_result"
    }
   ],
   "source": [
    "df.describe()#statistical information of only numeric data"
   ]
  },
  {
   "cell_type": "code",
   "execution_count": 5,
   "metadata": {},
   "outputs": [
    {
     "data": {
      "text/html": [
       "<div>\n",
       "<style scoped>\n",
       "    .dataframe tbody tr th:only-of-type {\n",
       "        vertical-align: middle;\n",
       "    }\n",
       "\n",
       "    .dataframe tbody tr th {\n",
       "        vertical-align: top;\n",
       "    }\n",
       "\n",
       "    .dataframe thead th {\n",
       "        text-align: right;\n",
       "    }\n",
       "</style>\n",
       "<table border=\"1\" class=\"dataframe\">\n",
       "  <thead>\n",
       "    <tr style=\"text-align: right;\">\n",
       "      <th></th>\n",
       "      <th>gender</th>\n",
       "      <th>ever_married</th>\n",
       "      <th>work_type</th>\n",
       "      <th>Residence_type</th>\n",
       "      <th>smoking_status</th>\n",
       "    </tr>\n",
       "  </thead>\n",
       "  <tbody>\n",
       "    <tr>\n",
       "      <th>count</th>\n",
       "      <td>5110</td>\n",
       "      <td>5110</td>\n",
       "      <td>5110</td>\n",
       "      <td>5110</td>\n",
       "      <td>5110</td>\n",
       "    </tr>\n",
       "    <tr>\n",
       "      <th>unique</th>\n",
       "      <td>3</td>\n",
       "      <td>2</td>\n",
       "      <td>5</td>\n",
       "      <td>2</td>\n",
       "      <td>4</td>\n",
       "    </tr>\n",
       "    <tr>\n",
       "      <th>top</th>\n",
       "      <td>Female</td>\n",
       "      <td>Yes</td>\n",
       "      <td>Private</td>\n",
       "      <td>Urban</td>\n",
       "      <td>never smoked</td>\n",
       "    </tr>\n",
       "    <tr>\n",
       "      <th>freq</th>\n",
       "      <td>2994</td>\n",
       "      <td>3353</td>\n",
       "      <td>2925</td>\n",
       "      <td>2596</td>\n",
       "      <td>1892</td>\n",
       "    </tr>\n",
       "  </tbody>\n",
       "</table>\n",
       "</div>"
      ],
      "text/plain": [
       "        gender ever_married work_type Residence_type smoking_status\n",
       "count     5110         5110      5110           5110           5110\n",
       "unique       3            2         5              2              4\n",
       "top     Female          Yes   Private          Urban   never smoked\n",
       "freq      2994         3353      2925           2596           1892"
      ]
     },
     "execution_count": 5,
     "metadata": {},
     "output_type": "execute_result"
    }
   ],
   "source": [
    "df.describe(include=['O'])"
   ]
  },
  {
   "cell_type": "code",
   "execution_count": 6,
   "metadata": {},
   "outputs": [
    {
     "name": "stdout",
     "output_type": "stream",
     "text": [
      "<class 'pandas.core.frame.DataFrame'>\n",
      "RangeIndex: 5110 entries, 0 to 5109\n",
      "Data columns (total 12 columns):\n",
      " #   Column             Non-Null Count  Dtype  \n",
      "---  ------             --------------  -----  \n",
      " 0   id                 5110 non-null   int64  \n",
      " 1   gender             5110 non-null   object \n",
      " 2   age                5110 non-null   float64\n",
      " 3   hypertension       5110 non-null   int64  \n",
      " 4   heart_disease      5110 non-null   int64  \n",
      " 5   ever_married       5110 non-null   object \n",
      " 6   work_type          5110 non-null   object \n",
      " 7   Residence_type     5110 non-null   object \n",
      " 8   avg_glucose_level  5110 non-null   float64\n",
      " 9   bmi                4909 non-null   float64\n",
      " 10  smoking_status     5110 non-null   object \n",
      " 11  stroke             5110 non-null   int64  \n",
      "dtypes: float64(3), int64(4), object(5)\n",
      "memory usage: 479.2+ KB\n"
     ]
    }
   ],
   "source": [
    "df.info()#info about columns"
   ]
  },
  {
   "cell_type": "markdown",
   "metadata": {},
   "source": [
    "# Checking for null values"
   ]
  },
  {
   "cell_type": "code",
   "execution_count": 7,
   "metadata": {},
   "outputs": [
    {
     "data": {
      "text/plain": [
       "id                     0\n",
       "gender                 0\n",
       "age                    0\n",
       "hypertension           0\n",
       "heart_disease          0\n",
       "ever_married           0\n",
       "work_type              0\n",
       "Residence_type         0\n",
       "avg_glucose_level      0\n",
       "bmi                  201\n",
       "smoking_status         0\n",
       "stroke                 0\n",
       "dtype: int64"
      ]
     },
     "execution_count": 7,
     "metadata": {},
     "output_type": "execute_result"
    }
   ],
   "source": [
    "df.isnull().sum()"
   ]
  },
  {
   "cell_type": "code",
   "execution_count": 8,
   "metadata": {},
   "outputs": [
    {
     "name": "stdout",
     "output_type": "stream",
     "text": [
      "28.893236911794673\n",
      "7.854066729680158\n"
     ]
    }
   ],
   "source": [
    "#here we calculate mean and std to fill the null values\n",
    "avg_bmi=df['bmi'].mean()\n",
    "print(avg_bmi)\n",
    "std_bmi=df[\"bmi\"].std()\n",
    "print(std_bmi)"
   ]
  },
  {
   "cell_type": "code",
   "execution_count": 9,
   "metadata": {},
   "outputs": [
    {
     "name": "stdout",
     "output_type": "stream",
     "text": [
      "1   31.0\n",
      "8   32.0\n",
      "13   35.0\n",
      "19   36.0\n",
      "27   24.0\n",
      "29   29.0\n",
      "43   30.0\n",
      "46   26.0\n",
      "50   36.0\n",
      "51   21.0\n",
      "54   28.0\n",
      "57   36.0\n",
      "64   34.0\n",
      "70   25.0\n",
      "78   24.0\n",
      "81   31.0\n",
      "84   30.0\n",
      "105   25.0\n",
      "112   22.0\n",
      "124   26.0\n",
      "126   34.0\n",
      "129   31.0\n",
      "133   23.0\n",
      "146   37.0\n",
      "150   35.0\n",
      "160   34.0\n",
      "161   28.0\n",
      "162   28.0\n",
      "167   32.0\n",
      "170   36.0\n",
      "171   25.0\n",
      "174   26.0\n",
      "178   25.0\n",
      "183   23.0\n",
      "189   31.0\n",
      "198   32.0\n",
      "200   23.0\n",
      "218   34.0\n",
      "227   22.0\n",
      "247   29.0\n",
      "342   23.0\n",
      "360   25.0\n",
      "432   24.0\n",
      "477   34.0\n",
      "479   31.0\n",
      "522   21.0\n",
      "668   32.0\n",
      "671   32.0\n",
      "680   26.0\n",
      "729   22.0\n",
      "742   25.0\n",
      "865   28.0\n",
      "867   33.0\n",
      "872   31.0\n",
      "879   27.0\n",
      "903   21.0\n",
      "936   30.0\n",
      "965   34.0\n",
      "1102   23.0\n",
      "1106   21.0\n",
      "1115   33.0\n",
      "1183   37.0\n",
      "1194   24.0\n",
      "1214   24.0\n",
      "1235   28.0\n",
      "1241   30.0\n",
      "1277   22.0\n",
      "1293   26.0\n",
      "1300   22.0\n",
      "1306   31.0\n",
      "1324   31.0\n",
      "1342   35.0\n",
      "1352   34.0\n",
      "1427   31.0\n",
      "1457   25.0\n",
      "1466   23.0\n",
      "1468   21.0\n",
      "1471   28.0\n",
      "1503   22.0\n",
      "1528   23.0\n",
      "1539   26.0\n",
      "1546   28.0\n",
      "1596   31.0\n",
      "1640   32.0\n",
      "1644   32.0\n",
      "1646   22.0\n",
      "1650   35.0\n",
      "1669   36.0\n",
      "1670   25.0\n",
      "1681   22.0\n",
      "1718   25.0\n",
      "1719   24.0\n",
      "1730   31.0\n",
      "1753   22.0\n",
      "1756   22.0\n",
      "1779   35.0\n",
      "1816   23.0\n",
      "1836   35.0\n",
      "1837   29.0\n",
      "1866   34.0\n",
      "1894   29.0\n",
      "1906   24.0\n",
      "1912   34.0\n",
      "1981   28.0\n",
      "1993   31.0\n",
      "2030   36.0\n",
      "2103   34.0\n",
      "2105   23.0\n",
      "2109   24.0\n",
      "2192   29.0\n",
      "2215   31.0\n",
      "2263   26.0\n",
      "2285   25.0\n",
      "2321   31.0\n",
      "2322   28.0\n",
      "2339   32.0\n",
      "2343   29.0\n",
      "2477   22.0\n",
      "2494   24.0\n",
      "2502   27.0\n",
      "2515   23.0\n",
      "2529   31.0\n",
      "2532   36.0\n",
      "2541   30.0\n",
      "2582   36.0\n",
      "2697   30.0\n",
      "2739   37.0\n",
      "2752   31.0\n",
      "2768   22.0\n",
      "2788   31.0\n",
      "2816   30.0\n",
      "2828   29.0\n",
      "2855   25.0\n",
      "2867   34.0\n",
      "2879   32.0\n",
      "2897   27.0\n",
      "2914   28.0\n",
      "2960   24.0\n",
      "2997   33.0\n",
      "3007   31.0\n",
      "3028   36.0\n",
      "3048   21.0\n",
      "3059   34.0\n",
      "3074   27.0\n",
      "3104   24.0\n",
      "3111   31.0\n",
      "3135   28.0\n",
      "3161   30.0\n",
      "3162   33.0\n",
      "3164   36.0\n",
      "3176   30.0\n",
      "3197   22.0\n",
      "3214   25.0\n",
      "3215   29.0\n",
      "3216   23.0\n",
      "3375   28.0\n",
      "3382   25.0\n",
      "3425   36.0\n",
      "3431   28.0\n",
      "3503   23.0\n",
      "3562   36.0\n",
      "3605   29.0\n",
      "3629   29.0\n",
      "3681   26.0\n",
      "3699   25.0\n",
      "3705   32.0\n",
      "3726   28.0\n",
      "3734   32.0\n",
      "3802   26.0\n",
      "3808   26.0\n",
      "3872   33.0\n",
      "3913   28.0\n",
      "3940   28.0\n",
      "3945   36.0\n",
      "3951   30.0\n",
      "4046   33.0\n",
      "4069   35.0\n",
      "4164   32.0\n",
      "4202   31.0\n",
      "4230   25.0\n",
      "4255   29.0\n",
      "4283   30.0\n",
      "4286   34.0\n",
      "4422   26.0\n",
      "4451   26.0\n",
      "4522   23.0\n",
      "4561   36.0\n",
      "4616   33.0\n",
      "4684   24.0\n",
      "4713   27.0\n",
      "4750   23.0\n",
      "4790   33.0\n",
      "4921   34.0\n",
      "4934   22.0\n",
      "4949   30.0\n",
      "4984   26.0\n",
      "5039   30.0\n",
      "5048   36.0\n",
      "5093   30.0\n",
      "5099   22.0\n",
      "5105   27.0\n"
     ]
    }
   ],
   "source": [
    "#since 201 is not a small number we can not drop as we can lose large data so we replace it by random numbers betrween avg_bmi-std_bmi,avg_bmi+std_bmi\n",
    "for i,data in df.iterrows():#iterates and gives index and data\n",
    "    if pd.isnull(data[\"bmi\"]):\n",
    "        r=np.random.uniform(avg_bmi-std_bmi,avg_bmi+std_bmi)\n",
    "        r=np.round(r,0)\n",
    "        df.at[i,\"bmi\"]=r\n",
    "        print(i,\" \",df.at[i,\"bmi\"])\n",
    "    "
   ]
  },
  {
   "cell_type": "code",
   "execution_count": 10,
   "metadata": {},
   "outputs": [],
   "source": [
    "#here i have droped the id column since there is already marking on left hand side.\n",
    "df.drop(\"id\",axis=1,inplace=True) #axis=1 means columns"
   ]
  },
  {
   "cell_type": "code",
   "execution_count": 11,
   "metadata": {},
   "outputs": [
    {
     "data": {
      "text/html": [
       "<div>\n",
       "<style scoped>\n",
       "    .dataframe tbody tr th:only-of-type {\n",
       "        vertical-align: middle;\n",
       "    }\n",
       "\n",
       "    .dataframe tbody tr th {\n",
       "        vertical-align: top;\n",
       "    }\n",
       "\n",
       "    .dataframe thead th {\n",
       "        text-align: right;\n",
       "    }\n",
       "</style>\n",
       "<table border=\"1\" class=\"dataframe\">\n",
       "  <thead>\n",
       "    <tr style=\"text-align: right;\">\n",
       "      <th></th>\n",
       "      <th>gender</th>\n",
       "      <th>age</th>\n",
       "      <th>hypertension</th>\n",
       "      <th>heart_disease</th>\n",
       "      <th>ever_married</th>\n",
       "      <th>work_type</th>\n",
       "      <th>Residence_type</th>\n",
       "      <th>avg_glucose_level</th>\n",
       "      <th>bmi</th>\n",
       "      <th>smoking_status</th>\n",
       "      <th>stroke</th>\n",
       "    </tr>\n",
       "  </thead>\n",
       "  <tbody>\n",
       "    <tr>\n",
       "      <th>0</th>\n",
       "      <td>Male</td>\n",
       "      <td>67.0</td>\n",
       "      <td>0</td>\n",
       "      <td>1</td>\n",
       "      <td>Yes</td>\n",
       "      <td>Private</td>\n",
       "      <td>Urban</td>\n",
       "      <td>228.69</td>\n",
       "      <td>36.6</td>\n",
       "      <td>formerly smoked</td>\n",
       "      <td>1</td>\n",
       "    </tr>\n",
       "    <tr>\n",
       "      <th>1</th>\n",
       "      <td>Female</td>\n",
       "      <td>61.0</td>\n",
       "      <td>0</td>\n",
       "      <td>0</td>\n",
       "      <td>Yes</td>\n",
       "      <td>Self-employed</td>\n",
       "      <td>Rural</td>\n",
       "      <td>202.21</td>\n",
       "      <td>31.0</td>\n",
       "      <td>never smoked</td>\n",
       "      <td>1</td>\n",
       "    </tr>\n",
       "    <tr>\n",
       "      <th>2</th>\n",
       "      <td>Male</td>\n",
       "      <td>80.0</td>\n",
       "      <td>0</td>\n",
       "      <td>1</td>\n",
       "      <td>Yes</td>\n",
       "      <td>Private</td>\n",
       "      <td>Rural</td>\n",
       "      <td>105.92</td>\n",
       "      <td>32.5</td>\n",
       "      <td>never smoked</td>\n",
       "      <td>1</td>\n",
       "    </tr>\n",
       "    <tr>\n",
       "      <th>3</th>\n",
       "      <td>Female</td>\n",
       "      <td>49.0</td>\n",
       "      <td>0</td>\n",
       "      <td>0</td>\n",
       "      <td>Yes</td>\n",
       "      <td>Private</td>\n",
       "      <td>Urban</td>\n",
       "      <td>171.23</td>\n",
       "      <td>34.4</td>\n",
       "      <td>smokes</td>\n",
       "      <td>1</td>\n",
       "    </tr>\n",
       "    <tr>\n",
       "      <th>4</th>\n",
       "      <td>Female</td>\n",
       "      <td>79.0</td>\n",
       "      <td>1</td>\n",
       "      <td>0</td>\n",
       "      <td>Yes</td>\n",
       "      <td>Self-employed</td>\n",
       "      <td>Rural</td>\n",
       "      <td>174.12</td>\n",
       "      <td>24.0</td>\n",
       "      <td>never smoked</td>\n",
       "      <td>1</td>\n",
       "    </tr>\n",
       "    <tr>\n",
       "      <th>...</th>\n",
       "      <td>...</td>\n",
       "      <td>...</td>\n",
       "      <td>...</td>\n",
       "      <td>...</td>\n",
       "      <td>...</td>\n",
       "      <td>...</td>\n",
       "      <td>...</td>\n",
       "      <td>...</td>\n",
       "      <td>...</td>\n",
       "      <td>...</td>\n",
       "      <td>...</td>\n",
       "    </tr>\n",
       "    <tr>\n",
       "      <th>5105</th>\n",
       "      <td>Female</td>\n",
       "      <td>80.0</td>\n",
       "      <td>1</td>\n",
       "      <td>0</td>\n",
       "      <td>Yes</td>\n",
       "      <td>Private</td>\n",
       "      <td>Urban</td>\n",
       "      <td>83.75</td>\n",
       "      <td>27.0</td>\n",
       "      <td>never smoked</td>\n",
       "      <td>1</td>\n",
       "    </tr>\n",
       "    <tr>\n",
       "      <th>5106</th>\n",
       "      <td>Female</td>\n",
       "      <td>81.0</td>\n",
       "      <td>0</td>\n",
       "      <td>0</td>\n",
       "      <td>Yes</td>\n",
       "      <td>Self-employed</td>\n",
       "      <td>Urban</td>\n",
       "      <td>125.20</td>\n",
       "      <td>40.0</td>\n",
       "      <td>never smoked</td>\n",
       "      <td>1</td>\n",
       "    </tr>\n",
       "    <tr>\n",
       "      <th>5107</th>\n",
       "      <td>Female</td>\n",
       "      <td>35.0</td>\n",
       "      <td>0</td>\n",
       "      <td>0</td>\n",
       "      <td>Yes</td>\n",
       "      <td>Self-employed</td>\n",
       "      <td>Rural</td>\n",
       "      <td>82.99</td>\n",
       "      <td>30.6</td>\n",
       "      <td>never smoked</td>\n",
       "      <td>0</td>\n",
       "    </tr>\n",
       "    <tr>\n",
       "      <th>5108</th>\n",
       "      <td>Male</td>\n",
       "      <td>51.0</td>\n",
       "      <td>0</td>\n",
       "      <td>0</td>\n",
       "      <td>Yes</td>\n",
       "      <td>Private</td>\n",
       "      <td>Rural</td>\n",
       "      <td>166.29</td>\n",
       "      <td>25.6</td>\n",
       "      <td>formerly smoked</td>\n",
       "      <td>0</td>\n",
       "    </tr>\n",
       "    <tr>\n",
       "      <th>5109</th>\n",
       "      <td>Female</td>\n",
       "      <td>44.0</td>\n",
       "      <td>0</td>\n",
       "      <td>0</td>\n",
       "      <td>Yes</td>\n",
       "      <td>Govt_job</td>\n",
       "      <td>Urban</td>\n",
       "      <td>85.28</td>\n",
       "      <td>26.2</td>\n",
       "      <td>Unknown</td>\n",
       "      <td>0</td>\n",
       "    </tr>\n",
       "  </tbody>\n",
       "</table>\n",
       "<p>5110 rows × 11 columns</p>\n",
       "</div>"
      ],
      "text/plain": [
       "      gender   age  hypertension  heart_disease ever_married      work_type  \\\n",
       "0       Male  67.0             0              1          Yes        Private   \n",
       "1     Female  61.0             0              0          Yes  Self-employed   \n",
       "2       Male  80.0             0              1          Yes        Private   \n",
       "3     Female  49.0             0              0          Yes        Private   \n",
       "4     Female  79.0             1              0          Yes  Self-employed   \n",
       "...      ...   ...           ...            ...          ...            ...   \n",
       "5105  Female  80.0             1              0          Yes        Private   \n",
       "5106  Female  81.0             0              0          Yes  Self-employed   \n",
       "5107  Female  35.0             0              0          Yes  Self-employed   \n",
       "5108    Male  51.0             0              0          Yes        Private   \n",
       "5109  Female  44.0             0              0          Yes       Govt_job   \n",
       "\n",
       "     Residence_type  avg_glucose_level   bmi   smoking_status  stroke  \n",
       "0             Urban             228.69  36.6  formerly smoked       1  \n",
       "1             Rural             202.21  31.0     never smoked       1  \n",
       "2             Rural             105.92  32.5     never smoked       1  \n",
       "3             Urban             171.23  34.4           smokes       1  \n",
       "4             Rural             174.12  24.0     never smoked       1  \n",
       "...             ...                ...   ...              ...     ...  \n",
       "5105          Urban              83.75  27.0     never smoked       1  \n",
       "5106          Urban             125.20  40.0     never smoked       1  \n",
       "5107          Rural              82.99  30.6     never smoked       0  \n",
       "5108          Rural             166.29  25.6  formerly smoked       0  \n",
       "5109          Urban              85.28  26.2          Unknown       0  \n",
       "\n",
       "[5110 rows x 11 columns]"
      ]
     },
     "execution_count": 11,
     "metadata": {},
     "output_type": "execute_result"
    }
   ],
   "source": [
    "df #data after replacing null values"
   ]
  },
  {
   "cell_type": "markdown",
   "metadata": {},
   "source": [
    "# Plotting Graphs for better data visualization"
   ]
  },
  {
   "cell_type": "code",
   "execution_count": 12,
   "metadata": {},
   "outputs": [
    {
     "data": {
      "text/plain": [
       "Private          2925\n",
       "Self-employed     819\n",
       "children          687\n",
       "Govt_job          657\n",
       "Never_worked       22\n",
       "Name: work_type, dtype: int64"
      ]
     },
     "execution_count": 12,
     "metadata": {},
     "output_type": "execute_result"
    }
   ],
   "source": [
    "df[\"work_type\"].value_counts()#it gives count of unique values in descending order"
   ]
  },
  {
   "cell_type": "code",
   "execution_count": 13,
   "metadata": {},
   "outputs": [
    {
     "data": {
      "text/plain": [
       "count        5110\n",
       "unique          5\n",
       "top       Private\n",
       "freq         2925\n",
       "Name: work_type, dtype: object"
      ]
     },
     "execution_count": 13,
     "metadata": {},
     "output_type": "execute_result"
    }
   ],
   "source": [
    "df['work_type'].describe()"
   ]
  },
  {
   "cell_type": "code",
   "execution_count": 14,
   "metadata": {},
   "outputs": [
    {
     "data": {
      "text/plain": [
       "<AxesSubplot:>"
      ]
     },
     "execution_count": 14,
     "metadata": {},
     "output_type": "execute_result"
    },
    {
     "data": {
      "image/png": "[encoded data removed]",
      "text/plain": [
       "<Figure size 432x288 with 1 Axes>"
      ]
     },
     "metadata": {
      "needs_background": "light"
     },
     "output_type": "display_data"
    }
   ],
   "source": [
    "df[\"work_type\"].value_counts().plot(kind='bar')"
   ]
  },
  {
   "cell_type": "code",
   "execution_count": 15,
   "metadata": {},
   "outputs": [],
   "source": [
    "#from the above graph we can see that most of the people work in private sector and there are very few people who have never worked and almost same number of people who are self-employed or are chidren or have govt_job."
   ]
  },
  {
   "cell_type": "code",
   "execution_count": 16,
   "metadata": {},
   "outputs": [
    {
     "data": {
      "text/plain": [
       "<AxesSubplot:xlabel='work_type'>"
      ]
     },
     "execution_count": 16,
     "metadata": {},
     "output_type": "execute_result"
    },
    {
     "data": {
      "image/png": "[encoded data removed]",
      "text/plain": [
       "<Figure size 432x288 with 1 Axes>"
      ]
     },
     "metadata": {
      "needs_background": "light"
     },
     "output_type": "display_data"
    }
   ],
   "source": [
    "df[[\"work_type\",\"stroke\"]].groupby([\"work_type\"]).mean().plot(kind='bar',color='b')"
   ]
  },
  {
   "cell_type": "code",
   "execution_count": 17,
   "metadata": {},
   "outputs": [],
   "source": [
    "#from the above graph we can see that people who are people who are self-employed are afftecd by stroke as compared to others"
   ]
  },
  {
   "cell_type": "code",
   "execution_count": 18,
   "metadata": {},
   "outputs": [
    {
     "data": {
      "text/html": [
       "<div>\n",
       "<style scoped>\n",
       "    .dataframe tbody tr th:only-of-type {\n",
       "        vertical-align: middle;\n",
       "    }\n",
       "\n",
       "    .dataframe tbody tr th {\n",
       "        vertical-align: top;\n",
       "    }\n",
       "\n",
       "    .dataframe thead th {\n",
       "        text-align: right;\n",
       "    }\n",
       "</style>\n",
       "<table border=\"1\" class=\"dataframe\">\n",
       "  <thead>\n",
       "    <tr style=\"text-align: right;\">\n",
       "      <th></th>\n",
       "      <th>stroke</th>\n",
       "    </tr>\n",
       "    <tr>\n",
       "      <th>heart_disease</th>\n",
       "      <th></th>\n",
       "    </tr>\n",
       "  </thead>\n",
       "  <tbody>\n",
       "    <tr>\n",
       "      <th>0</th>\n",
       "      <td>0.059785</td>\n",
       "    </tr>\n",
       "    <tr>\n",
       "      <th>1</th>\n",
       "      <td>0.170290</td>\n",
       "    </tr>\n",
       "  </tbody>\n",
       "</table>\n",
       "</div>"
      ],
      "text/plain": [
       "                 stroke\n",
       "heart_disease          \n",
       "0              0.059785\n",
       "1              0.170290"
      ]
     },
     "execution_count": 18,
     "metadata": {},
     "output_type": "execute_result"
    }
   ],
   "source": [
    "df[[\"heart_disease\",\"stroke\"]].groupby([\"heart_disease\"]).mean()"
   ]
  },
  {
   "cell_type": "code",
   "execution_count": 19,
   "metadata": {},
   "outputs": [
    {
     "data": {
      "text/plain": [
       "<AxesSubplot:xlabel='heart_disease'>"
      ]
     },
     "execution_count": 19,
     "metadata": {},
     "output_type": "execute_result"
    },
    {
     "data": {
      "image/png": "[encoded data removed]",
      "text/plain": [
       "<Figure size 432x288 with 1 Axes>"
      ]
     },
     "metadata": {
      "needs_background": "light"
     },
     "output_type": "display_data"
    }
   ],
   "source": [
    "df[[\"heart_disease\",\"stroke\"]].groupby([\"heart_disease\"]).mean().plot(kind='bar',color='r')"
   ]
  },
  {
   "cell_type": "code",
   "execution_count": 20,
   "metadata": {},
   "outputs": [],
   "source": [
    "#from the above graph we can see that most people who have heart disease suffer from stroke as compared who do not have heart disease "
   ]
  },
  {
   "cell_type": "code",
   "execution_count": 21,
   "metadata": {},
   "outputs": [
    {
     "data": {
      "text/html": [
       "<div>\n",
       "<style scoped>\n",
       "    .dataframe tbody tr th:only-of-type {\n",
       "        vertical-align: middle;\n",
       "    }\n",
       "\n",
       "    .dataframe tbody tr th {\n",
       "        vertical-align: top;\n",
       "    }\n",
       "\n",
       "    .dataframe thead th {\n",
       "        text-align: right;\n",
       "    }\n",
       "</style>\n",
       "<table border=\"1\" class=\"dataframe\">\n",
       "  <thead>\n",
       "    <tr style=\"text-align: right;\">\n",
       "      <th></th>\n",
       "      <th>stroke</th>\n",
       "    </tr>\n",
       "    <tr>\n",
       "      <th>hypertension</th>\n",
       "      <th></th>\n",
       "    </tr>\n",
       "  </thead>\n",
       "  <tbody>\n",
       "    <tr>\n",
       "      <th>0</th>\n",
       "      <td>0.057025</td>\n",
       "    </tr>\n",
       "    <tr>\n",
       "      <th>1</th>\n",
       "      <td>0.146586</td>\n",
       "    </tr>\n",
       "  </tbody>\n",
       "</table>\n",
       "</div>"
      ],
      "text/plain": [
       "                stroke\n",
       "hypertension          \n",
       "0             0.057025\n",
       "1             0.146586"
      ]
     },
     "execution_count": 21,
     "metadata": {},
     "output_type": "execute_result"
    }
   ],
   "source": [
    "df[[\"hypertension\",\"stroke\"]].groupby([\"hypertension\"]).mean()"
   ]
  },
  {
   "cell_type": "code",
   "execution_count": 22,
   "metadata": {},
   "outputs": [
    {
     "data": {
      "text/plain": [
       "<AxesSubplot:xlabel='hypertension'>"
      ]
     },
     "execution_count": 22,
     "metadata": {},
     "output_type": "execute_result"
    },
    {
     "data": {
      "image/png": "[encoded data removed]",
      "text/plain": [
       "<Figure size 432x288 with 1 Axes>"
      ]
     },
     "metadata": {
      "needs_background": "light"
     },
     "output_type": "display_data"
    }
   ],
   "source": [
    "df[[\"hypertension\",\"stroke\"]].groupby([\"hypertension\"]).mean().plot(kind='bar',color='g')"
   ]
  },
  {
   "cell_type": "code",
   "execution_count": 23,
   "metadata": {},
   "outputs": [],
   "source": [
    "#from the above graph we can see that most people who have hypertension suffer from stroke as compared who do not have hypertension. "
   ]
  },
  {
   "cell_type": "code",
   "execution_count": 24,
   "metadata": {},
   "outputs": [
    {
     "data": {
      "text/html": [
       "<div>\n",
       "<style scoped>\n",
       "    .dataframe tbody tr th:only-of-type {\n",
       "        vertical-align: middle;\n",
       "    }\n",
       "\n",
       "    .dataframe tbody tr th {\n",
       "        vertical-align: top;\n",
       "    }\n",
       "\n",
       "    .dataframe thead th {\n",
       "        text-align: right;\n",
       "    }\n",
       "</style>\n",
       "<table border=\"1\" class=\"dataframe\">\n",
       "  <thead>\n",
       "    <tr style=\"text-align: right;\">\n",
       "      <th></th>\n",
       "      <th>stroke</th>\n",
       "    </tr>\n",
       "    <tr>\n",
       "      <th>gender</th>\n",
       "      <th></th>\n",
       "    </tr>\n",
       "  </thead>\n",
       "  <tbody>\n",
       "    <tr>\n",
       "      <th>Female</th>\n",
       "      <td>0.066466</td>\n",
       "    </tr>\n",
       "    <tr>\n",
       "      <th>Male</th>\n",
       "      <td>0.064775</td>\n",
       "    </tr>\n",
       "    <tr>\n",
       "      <th>Other</th>\n",
       "      <td>0.000000</td>\n",
       "    </tr>\n",
       "  </tbody>\n",
       "</table>\n",
       "</div>"
      ],
      "text/plain": [
       "          stroke\n",
       "gender          \n",
       "Female  0.066466\n",
       "Male    0.064775\n",
       "Other   0.000000"
      ]
     },
     "execution_count": 24,
     "metadata": {},
     "output_type": "execute_result"
    }
   ],
   "source": [
    "df[[\"gender\",\"stroke\"]].groupby([\"gender\"]).mean()"
   ]
  },
  {
   "cell_type": "code",
   "execution_count": 25,
   "metadata": {},
   "outputs": [
    {
     "data": {
      "text/plain": [
       "<AxesSubplot:xlabel='gender'>"
      ]
     },
     "execution_count": 25,
     "metadata": {},
     "output_type": "execute_result"
    },
    {
     "data": {
      "image/png": "[encoded data removed]",
      "text/plain": [
       "<Figure size 432x288 with 1 Axes>"
      ]
     },
     "metadata": {
      "needs_background": "light"
     },
     "output_type": "display_data"
    }
   ],
   "source": [
    "df[[\"gender\",\"stroke\"]].groupby([\"gender\"]).mean().plot(kind='bar',color='b')"
   ]
  },
  {
   "cell_type": "code",
   "execution_count": 26,
   "metadata": {},
   "outputs": [],
   "source": [
    "#male and female are equally likely to suffer from stroke so we can infer that stroke does not depend on gender"
   ]
  },
  {
   "cell_type": "code",
   "execution_count": 27,
   "metadata": {},
   "outputs": [
    {
     "data": {
      "text/plain": [
       "never smoked       1892\n",
       "Unknown            1544\n",
       "formerly smoked     885\n",
       "smokes              789\n",
       "Name: smoking_status, dtype: int64"
      ]
     },
     "execution_count": 27,
     "metadata": {},
     "output_type": "execute_result"
    }
   ],
   "source": [
    "df[\"smoking_status\"].value_counts()"
   ]
  },
  {
   "cell_type": "code",
   "execution_count": 28,
   "metadata": {},
   "outputs": [
    {
     "data": {
      "text/plain": [
       "<AxesSubplot:>"
      ]
     },
     "execution_count": 28,
     "metadata": {},
     "output_type": "execute_result"
    },
    {
     "data": {
      "image/png": "[encoded data removed]",
      "text/plain": [
       "<Figure size 432x288 with 1 Axes>"
      ]
     },
     "metadata": {
      "needs_background": "light"
     },
     "output_type": "display_data"
    }
   ],
   "source": [
    "df[\"smoking_status\"].value_counts().plot(kind='bar')"
   ]
  },
  {
   "cell_type": "code",
   "execution_count": 29,
   "metadata": {},
   "outputs": [
    {
     "data": {
      "text/plain": [
       "0       (61.0, 82.0]\n",
       "1       (45.0, 61.0]\n",
       "2       (61.0, 82.0]\n",
       "3       (45.0, 61.0]\n",
       "4       (61.0, 82.0]\n",
       "            ...     \n",
       "5105    (61.0, 82.0]\n",
       "5106    (61.0, 82.0]\n",
       "5107    (25.0, 45.0]\n",
       "5108    (45.0, 61.0]\n",
       "5109    (25.0, 45.0]\n",
       "Name: Categorical__age, Length: 5110, dtype: category\n",
       "Categories (4, interval[float64]): [(0.079, 25.0] < (25.0, 45.0] < (45.0, 61.0] < (61.0, 82.0]]"
      ]
     },
     "execution_count": 29,
     "metadata": {},
     "output_type": "execute_result"
    }
   ],
   "source": [
    "df[\"Categorical__age\"]=pd.qcut(df['age'],4)##qcut is used to define the no. of quantiles and pandas figures out how to divide the data.here we tell pandas to create 4 equal sized groupings of the data. pd.qcut(df['ext price'], q=4)\n",
    "df[\"Categorical__age\"]"
   ]
  },
  {
   "cell_type": "code",
   "execution_count": 30,
   "metadata": {},
   "outputs": [
    {
     "data": {
      "text/html": [
       "<div>\n",
       "<style scoped>\n",
       "    .dataframe tbody tr th:only-of-type {\n",
       "        vertical-align: middle;\n",
       "    }\n",
       "\n",
       "    .dataframe tbody tr th {\n",
       "        vertical-align: top;\n",
       "    }\n",
       "\n",
       "    .dataframe thead th {\n",
       "        text-align: right;\n",
       "    }\n",
       "</style>\n",
       "<table border=\"1\" class=\"dataframe\">\n",
       "  <thead>\n",
       "    <tr style=\"text-align: right;\">\n",
       "      <th></th>\n",
       "      <th>stroke</th>\n",
       "    </tr>\n",
       "    <tr>\n",
       "      <th>Categorical__age</th>\n",
       "      <th></th>\n",
       "    </tr>\n",
       "  </thead>\n",
       "  <tbody>\n",
       "    <tr>\n",
       "      <th>(61.0, 82.0]</th>\n",
       "      <td>0.151466</td>\n",
       "    </tr>\n",
       "    <tr>\n",
       "      <th>(45.0, 61.0]</th>\n",
       "      <td>0.071994</td>\n",
       "    </tr>\n",
       "    <tr>\n",
       "      <th>(25.0, 45.0]</th>\n",
       "      <td>0.024151</td>\n",
       "    </tr>\n",
       "    <tr>\n",
       "      <th>(0.079, 25.0]</th>\n",
       "      <td>0.020882</td>\n",
       "    </tr>\n",
       "  </tbody>\n",
       "</table>\n",
       "</div>"
      ],
      "text/plain": [
       "                    stroke\n",
       "Categorical__age          \n",
       "(61.0, 82.0]      0.151466\n",
       "(45.0, 61.0]      0.071994\n",
       "(25.0, 45.0]      0.024151\n",
       "(0.079, 25.0]     0.020882"
      ]
     },
     "execution_count": 30,
     "metadata": {},
     "output_type": "execute_result"
    }
   ],
   "source": [
    "df[[\"Categorical__age\",\"stroke\"]].groupby(['Categorical__age']).mean().sort_values(by='stroke',ascending=False)"
   ]
  },
  {
   "cell_type": "code",
   "execution_count": 31,
   "metadata": {},
   "outputs": [
    {
     "data": {
      "text/plain": [
       "<AxesSubplot:xlabel='Categorical__age'>"
      ]
     },
     "execution_count": 31,
     "metadata": {},
     "output_type": "execute_result"
    },
    {
     "data": {
      "image/png": "[encoded data removed]",
      "text/plain": [
       "<Figure size 432x288 with 1 Axes>"
      ]
     },
     "metadata": {
      "needs_background": "light"
     },
     "output_type": "display_data"
    }
   ],
   "source": [
    "df[[\"Categorical__age\",\"stroke\"]].groupby([\"Categorical__age\"]).mean().plot(kind='bar',grid='True')"
   ]
  },
  {
   "cell_type": "code",
   "execution_count": 32,
   "metadata": {},
   "outputs": [],
   "source": [
    "#frequency of stroke is high in people of higher age"
   ]
  },
  {
   "cell_type": "code",
   "execution_count": 33,
   "metadata": {},
   "outputs": [
    {
     "data": {
      "text/plain": [
       "0       (217.585, 271.74]\n",
       "1       (163.43, 217.585]\n",
       "2       (54.903, 109.275]\n",
       "3       (163.43, 217.585]\n",
       "4       (163.43, 217.585]\n",
       "              ...        \n",
       "5105    (54.903, 109.275]\n",
       "5106    (109.275, 163.43]\n",
       "5107    (54.903, 109.275]\n",
       "5108    (163.43, 217.585]\n",
       "5109    (54.903, 109.275]\n",
       "Name: Categorical__avg_glucose_level, Length: 5110, dtype: category\n",
       "Categories (4, interval[float64]): [(54.903, 109.275] < (109.275, 163.43] < (163.43, 217.585] < (217.585, 271.74]]"
      ]
     },
     "execution_count": 33,
     "metadata": {},
     "output_type": "execute_result"
    }
   ],
   "source": [
    "df[\"Categorical__avg_glucose_level\"]=pd.cut(df['avg_glucose_level'],4)\n",
    "df[\"Categorical__avg_glucose_level\"]"
   ]
  },
  {
   "cell_type": "code",
   "execution_count": 34,
   "metadata": {},
   "outputs": [
    {
     "data": {
      "text/html": [
       "<div>\n",
       "<style scoped>\n",
       "    .dataframe tbody tr th:only-of-type {\n",
       "        vertical-align: middle;\n",
       "    }\n",
       "\n",
       "    .dataframe tbody tr th {\n",
       "        vertical-align: top;\n",
       "    }\n",
       "\n",
       "    .dataframe thead th {\n",
       "        text-align: right;\n",
       "    }\n",
       "</style>\n",
       "<table border=\"1\" class=\"dataframe\">\n",
       "  <thead>\n",
       "    <tr style=\"text-align: right;\">\n",
       "      <th></th>\n",
       "      <th>stroke</th>\n",
       "    </tr>\n",
       "    <tr>\n",
       "      <th>Categorical__avg_glucose_level</th>\n",
       "      <th></th>\n",
       "    </tr>\n",
       "  </thead>\n",
       "  <tbody>\n",
       "    <tr>\n",
       "      <th>(217.585, 271.74]</th>\n",
       "      <td>0.156780</td>\n",
       "    </tr>\n",
       "    <tr>\n",
       "      <th>(163.43, 217.585]</th>\n",
       "      <td>0.140097</td>\n",
       "    </tr>\n",
       "    <tr>\n",
       "      <th>(109.275, 163.43]</th>\n",
       "      <td>0.054181</td>\n",
       "    </tr>\n",
       "    <tr>\n",
       "      <th>(54.903, 109.275]</th>\n",
       "      <td>0.054002</td>\n",
       "    </tr>\n",
       "  </tbody>\n",
       "</table>\n",
       "</div>"
      ],
      "text/plain": [
       "                                  stroke\n",
       "Categorical__avg_glucose_level          \n",
       "(217.585, 271.74]               0.156780\n",
       "(163.43, 217.585]               0.140097\n",
       "(109.275, 163.43]               0.054181\n",
       "(54.903, 109.275]               0.054002"
      ]
     },
     "execution_count": 34,
     "metadata": {},
     "output_type": "execute_result"
    }
   ],
   "source": [
    "df[[\"Categorical__avg_glucose_level\",\"stroke\"]].groupby(['Categorical__avg_glucose_level']).mean().sort_values(by='stroke',ascending=False)"
   ]
  },
  {
   "cell_type": "code",
   "execution_count": 35,
   "metadata": {},
   "outputs": [
    {
     "data": {
      "text/plain": [
       "<AxesSubplot:xlabel='Categorical__avg_glucose_level'>"
      ]
     },
     "execution_count": 35,
     "metadata": {},
     "output_type": "execute_result"
    },
    {
     "data": {
      "image/png": "[encoded data removed]",
      "text/plain": [
       "<Figure size 432x288 with 1 Axes>"
      ]
     },
     "metadata": {
      "needs_background": "light"
     },
     "output_type": "display_data"
    }
   ],
   "source": [
    "df[[\"Categorical__avg_glucose_level\",\"stroke\"]].groupby(['Categorical__avg_glucose_level']).mean().sort_values(by='stroke',ascending=False).plot(kind='bar')"
   ]
  },
  {
   "cell_type": "code",
   "execution_count": 36,
   "metadata": {},
   "outputs": [],
   "source": [
    "#from the above graph we can see that the people with high blood sugar aor high gucose level are more peone to accurance of stroke"
   ]
  },
  {
   "cell_type": "code",
   "execution_count": 37,
   "metadata": {},
   "outputs": [
    {
     "data": {
      "text/plain": [
       "0        (32.125, 53.95]\n",
       "1       (10.213, 32.125]\n",
       "2        (32.125, 53.95]\n",
       "3        (32.125, 53.95]\n",
       "4       (10.213, 32.125]\n",
       "              ...       \n",
       "5105    (10.213, 32.125]\n",
       "5106     (32.125, 53.95]\n",
       "5107    (10.213, 32.125]\n",
       "5108    (10.213, 32.125]\n",
       "5109    (10.213, 32.125]\n",
       "Name: Categorical__bmi, Length: 5110, dtype: category\n",
       "Categories (4, interval[float64]): [(10.213, 32.125] < (32.125, 53.95] < (53.95, 75.775] < (75.775, 97.6]]"
      ]
     },
     "execution_count": 37,
     "metadata": {},
     "output_type": "execute_result"
    }
   ],
   "source": [
    "df[\"Categorical__bmi\"]=pd.cut(df[\"bmi\"],4)\n",
    "df[\"Categorical__bmi\"]"
   ]
  },
  {
   "cell_type": "code",
   "execution_count": 38,
   "metadata": {},
   "outputs": [
    {
     "data": {
      "text/html": [
       "<div>\n",
       "<style scoped>\n",
       "    .dataframe tbody tr th:only-of-type {\n",
       "        vertical-align: middle;\n",
       "    }\n",
       "\n",
       "    .dataframe tbody tr th {\n",
       "        vertical-align: top;\n",
       "    }\n",
       "\n",
       "    .dataframe thead th {\n",
       "        text-align: right;\n",
       "    }\n",
       "</style>\n",
       "<table border=\"1\" class=\"dataframe\">\n",
       "  <thead>\n",
       "    <tr style=\"text-align: right;\">\n",
       "      <th></th>\n",
       "      <th>stroke</th>\n",
       "    </tr>\n",
       "    <tr>\n",
       "      <th>Categorical__bmi</th>\n",
       "      <th></th>\n",
       "    </tr>\n",
       "  </thead>\n",
       "  <tbody>\n",
       "    <tr>\n",
       "      <th>(32.125, 53.95]</th>\n",
       "      <td>0.068406</td>\n",
       "    </tr>\n",
       "    <tr>\n",
       "      <th>(10.213, 32.125]</th>\n",
       "      <td>0.064985</td>\n",
       "    </tr>\n",
       "    <tr>\n",
       "      <th>(53.95, 75.775]</th>\n",
       "      <td>0.047619</td>\n",
       "    </tr>\n",
       "    <tr>\n",
       "      <th>(75.775, 97.6]</th>\n",
       "      <td>0.000000</td>\n",
       "    </tr>\n",
       "  </tbody>\n",
       "</table>\n",
       "</div>"
      ],
      "text/plain": [
       "                    stroke\n",
       "Categorical__bmi          \n",
       "(32.125, 53.95]   0.068406\n",
       "(10.213, 32.125]  0.064985\n",
       "(53.95, 75.775]   0.047619\n",
       "(75.775, 97.6]    0.000000"
      ]
     },
     "execution_count": 38,
     "metadata": {},
     "output_type": "execute_result"
    }
   ],
   "source": [
    "df[[\"Categorical__bmi\",\"stroke\"]].groupby(['Categorical__bmi']).mean().sort_values(by='stroke',ascending=False)"
   ]
  },
  {
   "cell_type": "code",
   "execution_count": 39,
   "metadata": {},
   "outputs": [
    {
     "data": {
      "text/plain": [
       "<AxesSubplot:xlabel='Categorical__bmi'>"
      ]
     },
     "execution_count": 39,
     "metadata": {},
     "output_type": "execute_result"
    },
    {
     "data": {
      "image/png": "[encoded data removed]",
      "text/plain": [
       "<Figure size 432x288 with 1 Axes>"
      ]
     },
     "metadata": {
      "needs_background": "light"
     },
     "output_type": "display_data"
    }
   ],
   "source": [
    "df[[\"Categorical__bmi\",\"stroke\"]].groupby(['Categorical__bmi']).mean().sort_values(by='stroke',ascending=False).plot(kind='bar')"
   ]
  },
  {
   "cell_type": "markdown",
   "metadata": {},
   "source": [
    "# Detecting Outliers\n"
   ]
  },
  {
   "cell_type": "code",
   "execution_count": 40,
   "metadata": {},
   "outputs": [
    {
     "name": "stderr",
     "output_type": "stream",
     "text": [
      "C:\\ProgramData\\Anaconda3\\lib\\site-packages\\seaborn\\_decorators.py:36: FutureWarning: Pass the following variable as a keyword arg: x. From version 0.12, the only valid positional argument will be `data`, and passing other arguments without an explicit keyword will result in an error or misinterpretation.\n",
      "  warnings.warn(\n"
     ]
    },
    {
     "data": {
      "text/plain": [
       "<AxesSubplot:xlabel='age'>"
      ]
     },
     "execution_count": 40,
     "metadata": {},
     "output_type": "execute_result"
    },
    {
     "data": {
      "image/png": "[encoded data removed]",
      "text/plain": [
       "<Figure size 432x288 with 1 Axes>"
      ]
     },
     "metadata": {
      "needs_background": "light"
     },
     "output_type": "display_data"
    }
   ],
   "source": [
    "sns.boxplot(df['age'])#no outlier"
   ]
  },
  {
   "cell_type": "code",
   "execution_count": 41,
   "metadata": {},
   "outputs": [
    {
     "name": "stderr",
     "output_type": "stream",
     "text": [
      "C:\\ProgramData\\Anaconda3\\lib\\site-packages\\seaborn\\_decorators.py:36: FutureWarning: Pass the following variable as a keyword arg: x. From version 0.12, the only valid positional argument will be `data`, and passing other arguments without an explicit keyword will result in an error or misinterpretation.\n",
      "  warnings.warn(\n"
     ]
    },
    {
     "data": {
      "text/plain": [
       "<AxesSubplot:xlabel='avg_glucose_level'>"
      ]
     },
     "execution_count": 41,
     "metadata": {},
     "output_type": "execute_result"
    },
    {
     "data": {
      "image/png": "[encoded data removed]",
      "text/plain": [
       "<Figure size 432x288 with 1 Axes>"
      ]
     },
     "metadata": {
      "needs_background": "light"
     },
     "output_type": "display_data"
    }
   ],
   "source": [
    "sns.boxplot(df['avg_glucose_level'])#outlier detected"
   ]
  },
  {
   "cell_type": "code",
   "execution_count": 42,
   "metadata": {},
   "outputs": [],
   "source": [
    "#Here the column avg_glucose_level has outliers so we use IQR to remove them."
   ]
  },
  {
   "cell_type": "code",
   "execution_count": 43,
   "metadata": {},
   "outputs": [
    {
     "name": "stdout",
     "output_type": "stream",
     "text": [
      "Number of Outliers Detected in average glucose level: 627\n"
     ]
    }
   ],
   "source": [
    "#A) check IQR strategy\n",
    "Q1 = df.avg_glucose_level.quantile(0.25)\n",
    "Q3 = df.avg_glucose_level.quantile(0.75)\n",
    "\n",
    "IQR=Q3-Q1\n",
    "\n",
    "lower=Q1-1.5*IQR\n",
    "upper=Q3+1.5*IQR\n",
    "\n",
    "df2 = df[(df['avg_glucose_level']<lower) | (df['avg_glucose_level']>upper)]\n",
    "\n",
    "print(\"Number of Outliers Detected in average glucose level:\",df2.shape[0])"
   ]
  },
  {
   "cell_type": "code",
   "execution_count": 44,
   "metadata": {},
   "outputs": [
    {
     "name": "stdout",
     "output_type": "stream",
     "text": [
      "Number of Outliers Detected in avg_glucose_level: 512\n"
     ]
    }
   ],
   "source": [
    "#B) check quantile strategy\n",
    "# quantile way of outlier\n",
    "\n",
    "max_val = df['avg_glucose_level'].quantile(0.95)        # df.avg_glucose_level.quantile(0.95)\n",
    "min_val = df['avg_glucose_level'].quantile(0.05)        # df.avg_glucose_level.quantile(0.05)\n",
    "\n",
    "df3 = df[(df['avg_glucose_level']<min_val) | (df['avg_glucose_level']>max_val)]\n",
    "\n",
    "print(\"Number of Outliers Detected in avg_glucose_level:\",df3.shape[0])"
   ]
  },
  {
   "cell_type": "code",
   "execution_count": 45,
   "metadata": {},
   "outputs": [],
   "source": [
    "for i,data in df.iterrows():\n",
    "    if data['avg_glucose_level']<lower:\n",
    "        df.at[i,'avg_glucose_level']=lower  # random no in proper range\n",
    "    elif data['avg_glucose_level']>upper:\n",
    "        df.at[i,'avg_glucose_level']=upper  # random no in proper range"
   ]
  },
  {
   "cell_type": "code",
   "execution_count": 46,
   "metadata": {},
   "outputs": [
    {
     "name": "stderr",
     "output_type": "stream",
     "text": [
      "C:\\ProgramData\\Anaconda3\\lib\\site-packages\\seaborn\\_decorators.py:36: FutureWarning: Pass the following variable as a keyword arg: x. From version 0.12, the only valid positional argument will be `data`, and passing other arguments without an explicit keyword will result in an error or misinterpretation.\n",
      "  warnings.warn(\n"
     ]
    },
    {
     "data": {
      "text/plain": [
       "<AxesSubplot:xlabel='avg_glucose_level'>"
      ]
     },
     "execution_count": 46,
     "metadata": {},
     "output_type": "execute_result"
    },
    {
     "data": {
      "image/png": "[encoded data removed]",
      "text/plain": [
       "<Figure size 432x288 with 1 Axes>"
      ]
     },
     "metadata": {
      "needs_background": "light"
     },
     "output_type": "display_data"
    }
   ],
   "source": [
    "import seaborn as sns\n",
    "sns.boxplot(df['avg_glucose_level'])"
   ]
  },
  {
   "cell_type": "code",
   "execution_count": 47,
   "metadata": {},
   "outputs": [
    {
     "name": "stderr",
     "output_type": "stream",
     "text": [
      "C:\\ProgramData\\Anaconda3\\lib\\site-packages\\seaborn\\_decorators.py:36: FutureWarning: Pass the following variable as a keyword arg: x. From version 0.12, the only valid positional argument will be `data`, and passing other arguments without an explicit keyword will result in an error or misinterpretation.\n",
      "  warnings.warn(\n"
     ]
    },
    {
     "data": {
      "text/plain": [
       "<AxesSubplot:xlabel='bmi'>"
      ]
     },
     "execution_count": 47,
     "metadata": {},
     "output_type": "execute_result"
    },
    {
     "data": {
      "image/png": "[encoded data removed]",
      "text/plain": [
       "<Figure size 432x288 with 1 Axes>"
      ]
     },
     "metadata": {
      "needs_background": "light"
     },
     "output_type": "display_data"
    }
   ],
   "source": [
    "sns.boxplot(df['bmi'])#outlier detected"
   ]
  },
  {
   "cell_type": "code",
   "execution_count": 48,
   "metadata": {},
   "outputs": [],
   "source": [
    "#Here the column bmi has outliers so we use IQR to remove them."
   ]
  },
  {
   "cell_type": "code",
   "execution_count": 49,
   "metadata": {},
   "outputs": [
    {
     "name": "stdout",
     "output_type": "stream",
     "text": [
      "Number of Outliers Detected in bmi: 117\n"
     ]
    }
   ],
   "source": [
    "#A) check IQR strategy\n",
    "Q1 = df.bmi.quantile(0.25)\n",
    "Q3 = df.bmi.quantile(0.75)\n",
    "\n",
    "IQR=Q3-Q1\n",
    "\n",
    "lower=Q1-1.5*IQR\n",
    "upper=Q3+1.5*IQR\n",
    "\n",
    "df2 = df[(df['bmi']<lower) | (df['bmi']>upper)]\n",
    "\n",
    "print(\"Number of Outliers Detected in bmi:\",df2.shape[0])"
   ]
  },
  {
   "cell_type": "code",
   "execution_count": 50,
   "metadata": {},
   "outputs": [
    {
     "name": "stdout",
     "output_type": "stream",
     "text": [
      "Number of Outliers Detected in bmi: 502\n"
     ]
    }
   ],
   "source": [
    "#B) check quantile strategy\n",
    "# quantile way of outlier\n",
    "\n",
    "max_val = df['bmi'].quantile(0.95)        # df.avg_glucose_level.quantile(0.95)\n",
    "min_val = df['bmi'].quantile(0.05)        # df.avg_glucose_level.quantile(0.05)\n",
    "\n",
    "df3 = df[(df['bmi']<min_val) | (df['bmi']>max_val)]\n",
    "\n",
    "print(\"Number of Outliers Detected in bmi:\",df3.shape[0])"
   ]
  },
  {
   "cell_type": "code",
   "execution_count": 51,
   "metadata": {},
   "outputs": [],
   "source": [
    "for i,data in df.iterrows():\n",
    "    if data['bmi']<lower:\n",
    "        df.at[i,'bmi']=lower  # random no in proper range\n",
    "    elif data['bmi']>upper:\n",
    "        df.at[i,'bmi']=upper  # random no in proper range"
   ]
  },
  {
   "cell_type": "code",
   "execution_count": 52,
   "metadata": {},
   "outputs": [
    {
     "name": "stderr",
     "output_type": "stream",
     "text": [
      "C:\\ProgramData\\Anaconda3\\lib\\site-packages\\seaborn\\_decorators.py:36: FutureWarning: Pass the following variable as a keyword arg: x. From version 0.12, the only valid positional argument will be `data`, and passing other arguments without an explicit keyword will result in an error or misinterpretation.\n",
      "  warnings.warn(\n"
     ]
    },
    {
     "data": {
      "text/plain": [
       "<AxesSubplot:xlabel='bmi'>"
      ]
     },
     "execution_count": 52,
     "metadata": {},
     "output_type": "execute_result"
    },
    {
     "data": {
      "image/png": "[encoded data removed]",
      "text/plain": [
       "<Figure size 432x288 with 1 Axes>"
      ]
     },
     "metadata": {
      "needs_background": "light"
     },
     "output_type": "display_data"
    }
   ],
   "source": [
    "sns.boxplot(df['bmi'])"
   ]
  },
  {
   "cell_type": "markdown",
   "metadata": {},
   "source": [
    "# Plots of Categorical Columns"
   ]
  },
  {
   "cell_type": "code",
   "execution_count": 53,
   "metadata": {},
   "outputs": [
    {
     "name": "stdout",
     "output_type": "stream",
     "text": [
      "The feature is gender and number of categories are 3\n",
      "The feature is ever_married and number of categories are 2\n",
      "The feature is work_type and number of categories are 5\n",
      "The feature is Residence_type and number of categories are 2\n",
      "The feature is smoking_status and number of categories are 4\n"
     ]
    }
   ],
   "source": [
    "categorical_features=[feature for feature in df.columns if ((df[feature].dtypes=='O'))]\n",
    "categorical_features\n",
    "for feature in categorical_features:\n",
    "    print('The feature is {} and number of categories are {}'.format(feature,len(df[feature].unique())))"
   ]
  },
  {
   "cell_type": "code",
   "execution_count": 54,
   "metadata": {},
   "outputs": [
    {
     "data": {
      "image/png": "[encoded data removed]",
      "text/plain": [
       "<Figure size 1080x5040 with 5 Axes>"
      ]
     },
     "metadata": {},
     "output_type": "display_data"
    }
   ],
   "source": [
    "plt.figure(figsize=(15,70), facecolor='white')\n",
    "plotnumber =1\n",
    "for categorical_feature in categorical_features:\n",
    "    ax = plt.subplot(12,3,plotnumber)\n",
    "    sns.countplot(y=categorical_feature,data=df)\n",
    "    plt.xlabel(categorical_feature)\n",
    "    plt.title(categorical_feature)\n",
    "    plotnumber+=1\n",
    "plt.show()"
   ]
  },
  {
   "cell_type": "markdown",
   "metadata": {},
   "source": [
    "# Label Encoding"
   ]
  },
  {
   "cell_type": "code",
   "execution_count": 55,
   "metadata": {},
   "outputs": [],
   "source": [
    "df[\"gender\"]=df[\"gender\"].astype('category')\n",
    "df[\"gender_encode\"]=df[\"gender\"].cat.codes\n",
    "df[\"Residence_type\"]=df[\"Residence_type\"].astype('category')\n",
    "df[\"Residence_type_encode\"]=df[\"Residence_type\"].cat.codes\n",
    "df[\"ever_married\"]=df[\"ever_married\"].astype('category')\n",
    "df[\"ever_married_encode\"]=df[\"ever_married\"].cat.codes\n",
    "df[\"work_type\"]=df[\"work_type\"].astype('category')\n",
    "df[\"work_type_encode\"]=df[\"work_type\"].cat.codes\n",
    "df[\"smoking_status\"]=df[\"smoking_status\"].astype('category')\n",
    "df[\"smoking_status_encode\"]=df[\"smoking_status\"].cat.codes\n",
    "df[\"age\"]=df[\"age\"].astype('category')\n",
    "df[\"age_encode\"]=df[\"age\"].cat.codes\n",
    "df[\"bmi\"]=df[\"bmi\"].astype('category')\n",
    "df[\"bmi_encode\"]=df[\"bmi\"].cat.codes\n",
    "df[\"avg_glucose_level\"]=df[\"avg_glucose_level\"].astype('category')\n",
    "df[\"avg_glucose_level_encode\"]=df[\"avg_glucose_level\"].cat.codes\n",
    "\n",
    "\n"
   ]
  },
  {
   "cell_type": "code",
   "execution_count": 56,
   "metadata": {},
   "outputs": [
    {
     "data": {
      "text/plain": [
       "Index(['gender', 'age', 'hypertension', 'heart_disease', 'ever_married',\n",
       "       'work_type', 'Residence_type', 'avg_glucose_level', 'bmi',\n",
       "       'smoking_status', 'stroke', 'Categorical__age',\n",
       "       'Categorical__avg_glucose_level', 'Categorical__bmi', 'gender_encode',\n",
       "       'Residence_type_encode', 'ever_married_encode', 'work_type_encode',\n",
       "       'smoking_status_encode', 'age_encode', 'bmi_encode',\n",
       "       'avg_glucose_level_encode'],\n",
       "      dtype='object')"
      ]
     },
     "execution_count": 56,
     "metadata": {},
     "output_type": "execute_result"
    }
   ],
   "source": [
    "df.columns #this gives total columns i.e the encoded as wells the original columns\n"
   ]
  },
  {
   "cell_type": "code",
   "execution_count": 57,
   "metadata": {},
   "outputs": [],
   "source": [
    "#here we drop the unwanted columns to get cleaned data\n",
    "drop_elements=['gender','ever_married','Residence_type','work_type','smoking_status','bmi','age','avg_glucose_level','Categorical__age','Categorical__avg_glucose_level','Categorical__bmi']\n",
    "df_cleaned=df.drop(drop_elements,axis=1)"
   ]
  },
  {
   "cell_type": "markdown",
   "metadata": {},
   "source": [
    "# Cleaned Data after Encoding"
   ]
  },
  {
   "cell_type": "code",
   "execution_count": 58,
   "metadata": {},
   "outputs": [
    {
     "data": {
      "text/html": [
       "<div>\n",
       "<style scoped>\n",
       "    .dataframe tbody tr th:only-of-type {\n",
       "        vertical-align: middle;\n",
       "    }\n",
       "\n",
       "    .dataframe tbody tr th {\n",
       "        vertical-align: top;\n",
       "    }\n",
       "\n",
       "    .dataframe thead th {\n",
       "        text-align: right;\n",
       "    }\n",
       "</style>\n",
       "<table border=\"1\" class=\"dataframe\">\n",
       "  <thead>\n",
       "    <tr style=\"text-align: right;\">\n",
       "      <th></th>\n",
       "      <th>hypertension</th>\n",
       "      <th>heart_disease</th>\n",
       "      <th>stroke</th>\n",
       "      <th>gender_encode</th>\n",
       "      <th>Residence_type_encode</th>\n",
       "      <th>ever_married_encode</th>\n",
       "      <th>work_type_encode</th>\n",
       "      <th>smoking_status_encode</th>\n",
       "      <th>age_encode</th>\n",
       "      <th>bmi_encode</th>\n",
       "      <th>avg_glucose_level_encode</th>\n",
       "    </tr>\n",
       "  </thead>\n",
       "  <tbody>\n",
       "    <tr>\n",
       "      <th>0</th>\n",
       "      <td>0</td>\n",
       "      <td>1</td>\n",
       "      <td>1</td>\n",
       "      <td>1</td>\n",
       "      <td>1</td>\n",
       "      <td>1</td>\n",
       "      <td>2</td>\n",
       "      <td>1</td>\n",
       "      <td>88</td>\n",
       "      <td>239</td>\n",
       "      <td>3374</td>\n",
       "    </tr>\n",
       "    <tr>\n",
       "      <th>1</th>\n",
       "      <td>0</td>\n",
       "      <td>0</td>\n",
       "      <td>1</td>\n",
       "      <td>0</td>\n",
       "      <td>0</td>\n",
       "      <td>1</td>\n",
       "      <td>3</td>\n",
       "      <td>2</td>\n",
       "      <td>82</td>\n",
       "      <td>183</td>\n",
       "      <td>3374</td>\n",
       "    </tr>\n",
       "    <tr>\n",
       "      <th>2</th>\n",
       "      <td>0</td>\n",
       "      <td>1</td>\n",
       "      <td>1</td>\n",
       "      <td>1</td>\n",
       "      <td>0</td>\n",
       "      <td>1</td>\n",
       "      <td>2</td>\n",
       "      <td>2</td>\n",
       "      <td>101</td>\n",
       "      <td>198</td>\n",
       "      <td>2483</td>\n",
       "    </tr>\n",
       "    <tr>\n",
       "      <th>3</th>\n",
       "      <td>0</td>\n",
       "      <td>0</td>\n",
       "      <td>1</td>\n",
       "      <td>0</td>\n",
       "      <td>1</td>\n",
       "      <td>1</td>\n",
       "      <td>2</td>\n",
       "      <td>3</td>\n",
       "      <td>70</td>\n",
       "      <td>217</td>\n",
       "      <td>3374</td>\n",
       "    </tr>\n",
       "    <tr>\n",
       "      <th>4</th>\n",
       "      <td>1</td>\n",
       "      <td>0</td>\n",
       "      <td>1</td>\n",
       "      <td>0</td>\n",
       "      <td>0</td>\n",
       "      <td>1</td>\n",
       "      <td>3</td>\n",
       "      <td>2</td>\n",
       "      <td>100</td>\n",
       "      <td>113</td>\n",
       "      <td>3374</td>\n",
       "    </tr>\n",
       "    <tr>\n",
       "      <th>...</th>\n",
       "      <td>...</td>\n",
       "      <td>...</td>\n",
       "      <td>...</td>\n",
       "      <td>...</td>\n",
       "      <td>...</td>\n",
       "      <td>...</td>\n",
       "      <td>...</td>\n",
       "      <td>...</td>\n",
       "      <td>...</td>\n",
       "      <td>...</td>\n",
       "      <td>...</td>\n",
       "    </tr>\n",
       "    <tr>\n",
       "      <th>5105</th>\n",
       "      <td>1</td>\n",
       "      <td>0</td>\n",
       "      <td>1</td>\n",
       "      <td>0</td>\n",
       "      <td>1</td>\n",
       "      <td>1</td>\n",
       "      <td>2</td>\n",
       "      <td>2</td>\n",
       "      <td>101</td>\n",
       "      <td>143</td>\n",
       "      <td>1360</td>\n",
       "    </tr>\n",
       "    <tr>\n",
       "      <th>5106</th>\n",
       "      <td>0</td>\n",
       "      <td>0</td>\n",
       "      <td>1</td>\n",
       "      <td>0</td>\n",
       "      <td>1</td>\n",
       "      <td>1</td>\n",
       "      <td>3</td>\n",
       "      <td>2</td>\n",
       "      <td>102</td>\n",
       "      <td>273</td>\n",
       "      <td>3030</td>\n",
       "    </tr>\n",
       "    <tr>\n",
       "      <th>5107</th>\n",
       "      <td>0</td>\n",
       "      <td>0</td>\n",
       "      <td>0</td>\n",
       "      <td>0</td>\n",
       "      <td>0</td>\n",
       "      <td>1</td>\n",
       "      <td>3</td>\n",
       "      <td>2</td>\n",
       "      <td>56</td>\n",
       "      <td>179</td>\n",
       "      <td>1314</td>\n",
       "    </tr>\n",
       "    <tr>\n",
       "      <th>5108</th>\n",
       "      <td>0</td>\n",
       "      <td>0</td>\n",
       "      <td>0</td>\n",
       "      <td>1</td>\n",
       "      <td>0</td>\n",
       "      <td>1</td>\n",
       "      <td>2</td>\n",
       "      <td>1</td>\n",
       "      <td>72</td>\n",
       "      <td>129</td>\n",
       "      <td>3363</td>\n",
       "    </tr>\n",
       "    <tr>\n",
       "      <th>5109</th>\n",
       "      <td>0</td>\n",
       "      <td>0</td>\n",
       "      <td>0</td>\n",
       "      <td>0</td>\n",
       "      <td>1</td>\n",
       "      <td>1</td>\n",
       "      <td>0</td>\n",
       "      <td>0</td>\n",
       "      <td>65</td>\n",
       "      <td>135</td>\n",
       "      <td>1454</td>\n",
       "    </tr>\n",
       "  </tbody>\n",
       "</table>\n",
       "<p>5110 rows × 11 columns</p>\n",
       "</div>"
      ],
      "text/plain": [
       "      hypertension  heart_disease  stroke  gender_encode  \\\n",
       "0                0              1       1              1   \n",
       "1                0              0       1              0   \n",
       "2                0              1       1              1   \n",
       "3                0              0       1              0   \n",
       "4                1              0       1              0   \n",
       "...            ...            ...     ...            ...   \n",
       "5105             1              0       1              0   \n",
       "5106             0              0       1              0   \n",
       "5107             0              0       0              0   \n",
       "5108             0              0       0              1   \n",
       "5109             0              0       0              0   \n",
       "\n",
       "      Residence_type_encode  ever_married_encode  work_type_encode  \\\n",
       "0                         1                    1                 2   \n",
       "1                         0                    1                 3   \n",
       "2                         0                    1                 2   \n",
       "3                         1                    1                 2   \n",
       "4                         0                    1                 3   \n",
       "...                     ...                  ...               ...   \n",
       "5105                      1                    1                 2   \n",
       "5106                      1                    1                 3   \n",
       "5107                      0                    1                 3   \n",
       "5108                      0                    1                 2   \n",
       "5109                      1                    1                 0   \n",
       "\n",
       "      smoking_status_encode  age_encode  bmi_encode  avg_glucose_level_encode  \n",
       "0                         1          88         239                      3374  \n",
       "1                         2          82         183                      3374  \n",
       "2                         2         101         198                      2483  \n",
       "3                         3          70         217                      3374  \n",
       "4                         2         100         113                      3374  \n",
       "...                     ...         ...         ...                       ...  \n",
       "5105                      2         101         143                      1360  \n",
       "5106                      2         102         273                      3030  \n",
       "5107                      2          56         179                      1314  \n",
       "5108                      1          72         129                      3363  \n",
       "5109                      0          65         135                      1454  \n",
       "\n",
       "[5110 rows x 11 columns]"
      ]
     },
     "execution_count": 58,
     "metadata": {},
     "output_type": "execute_result"
    }
   ],
   "source": [
    "df_cleaned"
   ]
  },
  {
   "cell_type": "code",
   "execution_count": 59,
   "metadata": {},
   "outputs": [],
   "source": [
    "df_cleaned.to_csv(\"C:\\\\Users\\\\blaise correia\\\\Documents\\\\sally\\\\df_cleaned_sdata.csv\")#storing the cleaned data in new location"
   ]
  },
  {
   "cell_type": "code",
   "execution_count": 60,
   "metadata": {},
   "outputs": [
    {
     "data": {
      "text/html": [
       "<div>\n",
       "<style scoped>\n",
       "    .dataframe tbody tr th:only-of-type {\n",
       "        vertical-align: middle;\n",
       "    }\n",
       "\n",
       "    .dataframe tbody tr th {\n",
       "        vertical-align: top;\n",
       "    }\n",
       "\n",
       "    .dataframe thead th {\n",
       "        text-align: right;\n",
       "    }\n",
       "</style>\n",
       "<table border=\"1\" class=\"dataframe\">\n",
       "  <thead>\n",
       "    <tr style=\"text-align: right;\">\n",
       "      <th></th>\n",
       "      <th>hypertension</th>\n",
       "      <th>heart_disease</th>\n",
       "      <th>stroke</th>\n",
       "      <th>gender_encode</th>\n",
       "      <th>Residence_type_encode</th>\n",
       "      <th>ever_married_encode</th>\n",
       "      <th>work_type_encode</th>\n",
       "      <th>smoking_status_encode</th>\n",
       "      <th>age_encode</th>\n",
       "      <th>bmi_encode</th>\n",
       "      <th>avg_glucose_level_encode</th>\n",
       "    </tr>\n",
       "  </thead>\n",
       "  <tbody>\n",
       "    <tr>\n",
       "      <th>0</th>\n",
       "      <td>0</td>\n",
       "      <td>1</td>\n",
       "      <td>1</td>\n",
       "      <td>1</td>\n",
       "      <td>1</td>\n",
       "      <td>1</td>\n",
       "      <td>2</td>\n",
       "      <td>1</td>\n",
       "      <td>88</td>\n",
       "      <td>239</td>\n",
       "      <td>3374</td>\n",
       "    </tr>\n",
       "    <tr>\n",
       "      <th>1</th>\n",
       "      <td>0</td>\n",
       "      <td>0</td>\n",
       "      <td>1</td>\n",
       "      <td>0</td>\n",
       "      <td>0</td>\n",
       "      <td>1</td>\n",
       "      <td>3</td>\n",
       "      <td>2</td>\n",
       "      <td>82</td>\n",
       "      <td>183</td>\n",
       "      <td>3374</td>\n",
       "    </tr>\n",
       "    <tr>\n",
       "      <th>2</th>\n",
       "      <td>0</td>\n",
       "      <td>1</td>\n",
       "      <td>1</td>\n",
       "      <td>1</td>\n",
       "      <td>0</td>\n",
       "      <td>1</td>\n",
       "      <td>2</td>\n",
       "      <td>2</td>\n",
       "      <td>101</td>\n",
       "      <td>198</td>\n",
       "      <td>2483</td>\n",
       "    </tr>\n",
       "    <tr>\n",
       "      <th>3</th>\n",
       "      <td>0</td>\n",
       "      <td>0</td>\n",
       "      <td>1</td>\n",
       "      <td>0</td>\n",
       "      <td>1</td>\n",
       "      <td>1</td>\n",
       "      <td>2</td>\n",
       "      <td>3</td>\n",
       "      <td>70</td>\n",
       "      <td>217</td>\n",
       "      <td>3374</td>\n",
       "    </tr>\n",
       "    <tr>\n",
       "      <th>4</th>\n",
       "      <td>1</td>\n",
       "      <td>0</td>\n",
       "      <td>1</td>\n",
       "      <td>0</td>\n",
       "      <td>0</td>\n",
       "      <td>1</td>\n",
       "      <td>3</td>\n",
       "      <td>2</td>\n",
       "      <td>100</td>\n",
       "      <td>113</td>\n",
       "      <td>3374</td>\n",
       "    </tr>\n",
       "    <tr>\n",
       "      <th>...</th>\n",
       "      <td>...</td>\n",
       "      <td>...</td>\n",
       "      <td>...</td>\n",
       "      <td>...</td>\n",
       "      <td>...</td>\n",
       "      <td>...</td>\n",
       "      <td>...</td>\n",
       "      <td>...</td>\n",
       "      <td>...</td>\n",
       "      <td>...</td>\n",
       "      <td>...</td>\n",
       "    </tr>\n",
       "    <tr>\n",
       "      <th>5105</th>\n",
       "      <td>1</td>\n",
       "      <td>0</td>\n",
       "      <td>1</td>\n",
       "      <td>0</td>\n",
       "      <td>1</td>\n",
       "      <td>1</td>\n",
       "      <td>2</td>\n",
       "      <td>2</td>\n",
       "      <td>101</td>\n",
       "      <td>143</td>\n",
       "      <td>1360</td>\n",
       "    </tr>\n",
       "    <tr>\n",
       "      <th>5106</th>\n",
       "      <td>0</td>\n",
       "      <td>0</td>\n",
       "      <td>1</td>\n",
       "      <td>0</td>\n",
       "      <td>1</td>\n",
       "      <td>1</td>\n",
       "      <td>3</td>\n",
       "      <td>2</td>\n",
       "      <td>102</td>\n",
       "      <td>273</td>\n",
       "      <td>3030</td>\n",
       "    </tr>\n",
       "    <tr>\n",
       "      <th>5107</th>\n",
       "      <td>0</td>\n",
       "      <td>0</td>\n",
       "      <td>0</td>\n",
       "      <td>0</td>\n",
       "      <td>0</td>\n",
       "      <td>1</td>\n",
       "      <td>3</td>\n",
       "      <td>2</td>\n",
       "      <td>56</td>\n",
       "      <td>179</td>\n",
       "      <td>1314</td>\n",
       "    </tr>\n",
       "    <tr>\n",
       "      <th>5108</th>\n",
       "      <td>0</td>\n",
       "      <td>0</td>\n",
       "      <td>0</td>\n",
       "      <td>1</td>\n",
       "      <td>0</td>\n",
       "      <td>1</td>\n",
       "      <td>2</td>\n",
       "      <td>1</td>\n",
       "      <td>72</td>\n",
       "      <td>129</td>\n",
       "      <td>3363</td>\n",
       "    </tr>\n",
       "    <tr>\n",
       "      <th>5109</th>\n",
       "      <td>0</td>\n",
       "      <td>0</td>\n",
       "      <td>0</td>\n",
       "      <td>0</td>\n",
       "      <td>1</td>\n",
       "      <td>1</td>\n",
       "      <td>0</td>\n",
       "      <td>0</td>\n",
       "      <td>65</td>\n",
       "      <td>135</td>\n",
       "      <td>1454</td>\n",
       "    </tr>\n",
       "  </tbody>\n",
       "</table>\n",
       "<p>5110 rows × 11 columns</p>\n",
       "</div>"
      ],
      "text/plain": [
       "      hypertension  heart_disease  stroke  gender_encode  \\\n",
       "0                0              1       1              1   \n",
       "1                0              0       1              0   \n",
       "2                0              1       1              1   \n",
       "3                0              0       1              0   \n",
       "4                1              0       1              0   \n",
       "...            ...            ...     ...            ...   \n",
       "5105             1              0       1              0   \n",
       "5106             0              0       1              0   \n",
       "5107             0              0       0              0   \n",
       "5108             0              0       0              1   \n",
       "5109             0              0       0              0   \n",
       "\n",
       "      Residence_type_encode  ever_married_encode  work_type_encode  \\\n",
       "0                         1                    1                 2   \n",
       "1                         0                    1                 3   \n",
       "2                         0                    1                 2   \n",
       "3                         1                    1                 2   \n",
       "4                         0                    1                 3   \n",
       "...                     ...                  ...               ...   \n",
       "5105                      1                    1                 2   \n",
       "5106                      1                    1                 3   \n",
       "5107                      0                    1                 3   \n",
       "5108                      0                    1                 2   \n",
       "5109                      1                    1                 0   \n",
       "\n",
       "      smoking_status_encode  age_encode  bmi_encode  avg_glucose_level_encode  \n",
       "0                         1          88         239                      3374  \n",
       "1                         2          82         183                      3374  \n",
       "2                         2         101         198                      2483  \n",
       "3                         3          70         217                      3374  \n",
       "4                         2         100         113                      3374  \n",
       "...                     ...         ...         ...                       ...  \n",
       "5105                      2         101         143                      1360  \n",
       "5106                      2         102         273                      3030  \n",
       "5107                      2          56         179                      1314  \n",
       "5108                      1          72         129                      3363  \n",
       "5109                      0          65         135                      1454  \n",
       "\n",
       "[5110 rows x 11 columns]"
      ]
     },
     "execution_count": 60,
     "metadata": {},
     "output_type": "execute_result"
    }
   ],
   "source": [
    "df_cleaned"
   ]
  },
  {
   "cell_type": "markdown",
   "metadata": {},
   "source": [
    "# HeatMap"
   ]
  },
  {
   "cell_type": "code",
   "execution_count": 61,
   "metadata": {},
   "outputs": [
    {
     "data": {
      "text/plain": [
       "<AxesSubplot:>"
      ]
     },
     "execution_count": 61,
     "metadata": {},
     "output_type": "execute_result"
    },
    {
     "data": {
      "image/png": "[encoded data removed]",
      "text/plain": [
       "<Figure size 1008x648 with 2 Axes>"
      ]
     },
     "metadata": {
      "needs_background": "light"
     },
     "output_type": "display_data"
    }
   ],
   "source": [
    "plt.figure(figsize=(14,9))\n",
    "sns.heatmap(df_cleaned)"
   ]
  },
  {
   "cell_type": "code",
   "execution_count": 62,
   "metadata": {},
   "outputs": [
    {
     "data": {
      "text/html": [
       "<div>\n",
       "<style scoped>\n",
       "    .dataframe tbody tr th:only-of-type {\n",
       "        vertical-align: middle;\n",
       "    }\n",
       "\n",
       "    .dataframe tbody tr th {\n",
       "        vertical-align: top;\n",
       "    }\n",
       "\n",
       "    .dataframe thead th {\n",
       "        text-align: right;\n",
       "    }\n",
       "</style>\n",
       "<table border=\"1\" class=\"dataframe\">\n",
       "  <thead>\n",
       "    <tr style=\"text-align: right;\">\n",
       "      <th></th>\n",
       "      <th>hypertension</th>\n",
       "      <th>heart_disease</th>\n",
       "      <th>stroke</th>\n",
       "      <th>gender_encode</th>\n",
       "      <th>Residence_type_encode</th>\n",
       "      <th>ever_married_encode</th>\n",
       "      <th>work_type_encode</th>\n",
       "      <th>smoking_status_encode</th>\n",
       "      <th>age_encode</th>\n",
       "      <th>bmi_encode</th>\n",
       "      <th>avg_glucose_level_encode</th>\n",
       "    </tr>\n",
       "  </thead>\n",
       "  <tbody>\n",
       "    <tr>\n",
       "      <th>hypertension</th>\n",
       "      <td>1.000000</td>\n",
       "      <td>0.108306</td>\n",
       "      <td>0.107169</td>\n",
       "      <td>0.020994</td>\n",
       "      <td>-0.007913</td>\n",
       "      <td>0.164243</td>\n",
       "      <td>-0.051761</td>\n",
       "      <td>0.111038</td>\n",
       "      <td>0.273891</td>\n",
       "      <td>0.153144</td>\n",
       "      <td>0.110322</td>\n",
       "    </tr>\n",
       "    <tr>\n",
       "      <th>heart_disease</th>\n",
       "      <td>0.108306</td>\n",
       "      <td>1.000000</td>\n",
       "      <td>0.100781</td>\n",
       "      <td>0.085447</td>\n",
       "      <td>0.003092</td>\n",
       "      <td>0.114644</td>\n",
       "      <td>-0.028023</td>\n",
       "      <td>0.048460</td>\n",
       "      <td>0.260691</td>\n",
       "      <td>0.047190</td>\n",
       "      <td>0.101032</td>\n",
       "    </tr>\n",
       "    <tr>\n",
       "      <th>stroke</th>\n",
       "      <td>0.107169</td>\n",
       "      <td>0.100781</td>\n",
       "      <td>1.000000</td>\n",
       "      <td>-0.003523</td>\n",
       "      <td>0.003639</td>\n",
       "      <td>0.095630</td>\n",
       "      <td>-0.045157</td>\n",
       "      <td>0.026057</td>\n",
       "      <td>0.205276</td>\n",
       "      <td>0.037053</td>\n",
       "      <td>0.061595</td>\n",
       "    </tr>\n",
       "    <tr>\n",
       "      <th>gender_encode</th>\n",
       "      <td>0.020994</td>\n",
       "      <td>0.085447</td>\n",
       "      <td>-0.003523</td>\n",
       "      <td>1.000000</td>\n",
       "      <td>-0.006738</td>\n",
       "      <td>-0.031005</td>\n",
       "      <td>0.056422</td>\n",
       "      <td>-0.062581</td>\n",
       "      <td>-0.030616</td>\n",
       "      <td>-0.022224</td>\n",
       "      <td>0.048455</td>\n",
       "    </tr>\n",
       "    <tr>\n",
       "      <th>Residence_type_encode</th>\n",
       "      <td>-0.007913</td>\n",
       "      <td>0.003092</td>\n",
       "      <td>0.003639</td>\n",
       "      <td>-0.006738</td>\n",
       "      <td>1.000000</td>\n",
       "      <td>0.006261</td>\n",
       "      <td>-0.007316</td>\n",
       "      <td>0.008237</td>\n",
       "      <td>0.013461</td>\n",
       "      <td>0.003727</td>\n",
       "      <td>-0.013046</td>\n",
       "    </tr>\n",
       "    <tr>\n",
       "      <th>ever_married_encode</th>\n",
       "      <td>0.164243</td>\n",
       "      <td>0.114644</td>\n",
       "      <td>0.095630</td>\n",
       "      <td>-0.031005</td>\n",
       "      <td>0.006261</td>\n",
       "      <td>1.000000</td>\n",
       "      <td>-0.352722</td>\n",
       "      <td>0.259647</td>\n",
       "      <td>0.678447</td>\n",
       "      <td>0.352616</td>\n",
       "      <td>0.092743</td>\n",
       "    </tr>\n",
       "    <tr>\n",
       "      <th>work_type_encode</th>\n",
       "      <td>-0.051761</td>\n",
       "      <td>-0.028023</td>\n",
       "      <td>-0.045157</td>\n",
       "      <td>0.056422</td>\n",
       "      <td>-0.007316</td>\n",
       "      <td>-0.352722</td>\n",
       "      <td>1.000000</td>\n",
       "      <td>-0.305927</td>\n",
       "      <td>-0.370303</td>\n",
       "      <td>-0.314426</td>\n",
       "      <td>-0.021705</td>\n",
       "    </tr>\n",
       "    <tr>\n",
       "      <th>smoking_status_encode</th>\n",
       "      <td>0.111038</td>\n",
       "      <td>0.048460</td>\n",
       "      <td>0.026057</td>\n",
       "      <td>-0.062581</td>\n",
       "      <td>0.008237</td>\n",
       "      <td>0.259647</td>\n",
       "      <td>-0.305927</td>\n",
       "      <td>1.000000</td>\n",
       "      <td>0.272053</td>\n",
       "      <td>0.227935</td>\n",
       "      <td>0.035810</td>\n",
       "    </tr>\n",
       "    <tr>\n",
       "      <th>age_encode</th>\n",
       "      <td>0.273891</td>\n",
       "      <td>0.260691</td>\n",
       "      <td>0.205276</td>\n",
       "      <td>-0.030616</td>\n",
       "      <td>0.013461</td>\n",
       "      <td>0.678447</td>\n",
       "      <td>-0.370303</td>\n",
       "      <td>0.272053</td>\n",
       "      <td>1.000000</td>\n",
       "      <td>0.356179</td>\n",
       "      <td>0.130598</td>\n",
       "    </tr>\n",
       "    <tr>\n",
       "      <th>bmi_encode</th>\n",
       "      <td>0.153144</td>\n",
       "      <td>0.047190</td>\n",
       "      <td>0.037053</td>\n",
       "      <td>-0.022224</td>\n",
       "      <td>0.003727</td>\n",
       "      <td>0.352616</td>\n",
       "      <td>-0.314426</td>\n",
       "      <td>0.227935</td>\n",
       "      <td>0.356179</td>\n",
       "      <td>1.000000</td>\n",
       "      <td>0.104382</td>\n",
       "    </tr>\n",
       "    <tr>\n",
       "      <th>avg_glucose_level_encode</th>\n",
       "      <td>0.110322</td>\n",
       "      <td>0.101032</td>\n",
       "      <td>0.061595</td>\n",
       "      <td>0.048455</td>\n",
       "      <td>-0.013046</td>\n",
       "      <td>0.092743</td>\n",
       "      <td>-0.021705</td>\n",
       "      <td>0.035810</td>\n",
       "      <td>0.130598</td>\n",
       "      <td>0.104382</td>\n",
       "      <td>1.000000</td>\n",
       "    </tr>\n",
       "  </tbody>\n",
       "</table>\n",
       "</div>"
      ],
      "text/plain": [
       "                          hypertension  heart_disease    stroke  \\\n",
       "hypertension                  1.000000       0.108306  0.107169   \n",
       "heart_disease                 0.108306       1.000000  0.100781   \n",
       "stroke                        0.107169       0.100781  1.000000   \n",
       "gender_encode                 0.020994       0.085447 -0.003523   \n",
       "Residence_type_encode        -0.007913       0.003092  0.003639   \n",
       "ever_married_encode           0.164243       0.114644  0.095630   \n",
       "work_type_encode             -0.051761      -0.028023 -0.045157   \n",
       "smoking_status_encode         0.111038       0.048460  0.026057   \n",
       "age_encode                    0.273891       0.260691  0.205276   \n",
       "bmi_encode                    0.153144       0.047190  0.037053   \n",
       "avg_glucose_level_encode      0.110322       0.101032  0.061595   \n",
       "\n",
       "                          gender_encode  Residence_type_encode  \\\n",
       "hypertension                   0.020994              -0.007913   \n",
       "heart_disease                  0.085447               0.003092   \n",
       "stroke                        -0.003523               0.003639   \n",
       "gender_encode                  1.000000              -0.006738   \n",
       "Residence_type_encode         -0.006738               1.000000   \n",
       "ever_married_encode           -0.031005               0.006261   \n",
       "work_type_encode               0.056422              -0.007316   \n",
       "smoking_status_encode         -0.062581               0.008237   \n",
       "age_encode                    -0.030616               0.013461   \n",
       "bmi_encode                    -0.022224               0.003727   \n",
       "avg_glucose_level_encode       0.048455              -0.013046   \n",
       "\n",
       "                          ever_married_encode  work_type_encode  \\\n",
       "hypertension                         0.164243         -0.051761   \n",
       "heart_disease                        0.114644         -0.028023   \n",
       "stroke                               0.095630         -0.045157   \n",
       "gender_encode                       -0.031005          0.056422   \n",
       "Residence_type_encode                0.006261         -0.007316   \n",
       "ever_married_encode                  1.000000         -0.352722   \n",
       "work_type_encode                    -0.352722          1.000000   \n",
       "smoking_status_encode                0.259647         -0.305927   \n",
       "age_encode                           0.678447         -0.370303   \n",
       "bmi_encode                           0.352616         -0.314426   \n",
       "avg_glucose_level_encode             0.092743         -0.021705   \n",
       "\n",
       "                          smoking_status_encode  age_encode  bmi_encode  \\\n",
       "hypertension                           0.111038    0.273891    0.153144   \n",
       "heart_disease                          0.048460    0.260691    0.047190   \n",
       "stroke                                 0.026057    0.205276    0.037053   \n",
       "gender_encode                         -0.062581   -0.030616   -0.022224   \n",
       "Residence_type_encode                  0.008237    0.013461    0.003727   \n",
       "ever_married_encode                    0.259647    0.678447    0.352616   \n",
       "work_type_encode                      -0.305927   -0.370303   -0.314426   \n",
       "smoking_status_encode                  1.000000    0.272053    0.227935   \n",
       "age_encode                             0.272053    1.000000    0.356179   \n",
       "bmi_encode                             0.227935    0.356179    1.000000   \n",
       "avg_glucose_level_encode               0.035810    0.130598    0.104382   \n",
       "\n",
       "                          avg_glucose_level_encode  \n",
       "hypertension                              0.110322  \n",
       "heart_disease                             0.101032  \n",
       "stroke                                    0.061595  \n",
       "gender_encode                             0.048455  \n",
       "Residence_type_encode                    -0.013046  \n",
       "ever_married_encode                       0.092743  \n",
       "work_type_encode                         -0.021705  \n",
       "smoking_status_encode                     0.035810  \n",
       "age_encode                                0.130598  \n",
       "bmi_encode                                0.104382  \n",
       "avg_glucose_level_encode                  1.000000  "
      ]
     },
     "execution_count": 62,
     "metadata": {},
     "output_type": "execute_result"
    }
   ],
   "source": [
    "correlation=df_cleaned.corr()#this gives correlation of each variable with every other variable\n",
    "correlation"
   ]
  },
  {
   "cell_type": "markdown",
   "metadata": {},
   "source": []
  },
  {
   "cell_type": "markdown",
   "metadata": {},
   "source": [
    "# Heat map for correlation"
   ]
  },
  {
   "cell_type": "code",
   "execution_count": 63,
   "metadata": {},
   "outputs": [
    {
     "data": {
      "text/plain": [
       "<AxesSubplot:>"
      ]
     },
     "execution_count": 63,
     "metadata": {},
     "output_type": "execute_result"
    },
    {
     "data": {
      "image/png": "[encoded data removed]",
      "text/plain": [
       "<Figure size 1008x720 with 2 Axes>"
      ]
     },
     "metadata": {
      "needs_background": "light"
     },
     "output_type": "display_data"
    }
   ],
   "source": [
    "colormap=plt.cm.Blues\n",
    "plt.figure(figsize=(14,10))\n",
    "sns.heatmap(df_cleaned.corr(),annot=True,cmap=colormap,linewidths=0.2)"
   ]
  },
  {
   "cell_type": "code",
   "execution_count": 64,
   "metadata": {},
   "outputs": [],
   "source": [
    "#no two variables are highly correlated.\n",
    "#ever_married_encode and age_encode has moderate positive correlation.\n",
    "#all other have low or negligible correlation between them."
   ]
  },
  {
   "cell_type": "markdown",
   "metadata": {},
   "source": [
    "# Data Modeling"
   ]
  },
  {
   "cell_type": "code",
   "execution_count": 65,
   "metadata": {},
   "outputs": [],
   "source": [
    "#we store all the feature variables in X and target variable in y\n",
    "X=df_cleaned.drop('stroke',axis=1) #all feature variables\n",
    "y=df_cleaned[\"stroke\"]             #only target variable"
   ]
  },
  {
   "cell_type": "code",
   "execution_count": 66,
   "metadata": {},
   "outputs": [
    {
     "data": {
      "text/html": [
       "<div>\n",
       "<style scoped>\n",
       "    .dataframe tbody tr th:only-of-type {\n",
       "        vertical-align: middle;\n",
       "    }\n",
       "\n",
       "    .dataframe tbody tr th {\n",
       "        vertical-align: top;\n",
       "    }\n",
       "\n",
       "    .dataframe thead th {\n",
       "        text-align: right;\n",
       "    }\n",
       "</style>\n",
       "<table border=\"1\" class=\"dataframe\">\n",
       "  <thead>\n",
       "    <tr style=\"text-align: right;\">\n",
       "      <th></th>\n",
       "      <th>hypertension</th>\n",
       "      <th>heart_disease</th>\n",
       "      <th>gender_encode</th>\n",
       "      <th>Residence_type_encode</th>\n",
       "      <th>ever_married_encode</th>\n",
       "      <th>work_type_encode</th>\n",
       "      <th>smoking_status_encode</th>\n",
       "      <th>age_encode</th>\n",
       "      <th>bmi_encode</th>\n",
       "      <th>avg_glucose_level_encode</th>\n",
       "    </tr>\n",
       "  </thead>\n",
       "  <tbody>\n",
       "    <tr>\n",
       "      <th>0</th>\n",
       "      <td>0</td>\n",
       "      <td>1</td>\n",
       "      <td>1</td>\n",
       "      <td>1</td>\n",
       "      <td>1</td>\n",
       "      <td>2</td>\n",
       "      <td>1</td>\n",
       "      <td>88</td>\n",
       "      <td>239</td>\n",
       "      <td>3374</td>\n",
       "    </tr>\n",
       "    <tr>\n",
       "      <th>1</th>\n",
       "      <td>0</td>\n",
       "      <td>0</td>\n",
       "      <td>0</td>\n",
       "      <td>0</td>\n",
       "      <td>1</td>\n",
       "      <td>3</td>\n",
       "      <td>2</td>\n",
       "      <td>82</td>\n",
       "      <td>183</td>\n",
       "      <td>3374</td>\n",
       "    </tr>\n",
       "    <tr>\n",
       "      <th>2</th>\n",
       "      <td>0</td>\n",
       "      <td>1</td>\n",
       "      <td>1</td>\n",
       "      <td>0</td>\n",
       "      <td>1</td>\n",
       "      <td>2</td>\n",
       "      <td>2</td>\n",
       "      <td>101</td>\n",
       "      <td>198</td>\n",
       "      <td>2483</td>\n",
       "    </tr>\n",
       "    <tr>\n",
       "      <th>3</th>\n",
       "      <td>0</td>\n",
       "      <td>0</td>\n",
       "      <td>0</td>\n",
       "      <td>1</td>\n",
       "      <td>1</td>\n",
       "      <td>2</td>\n",
       "      <td>3</td>\n",
       "      <td>70</td>\n",
       "      <td>217</td>\n",
       "      <td>3374</td>\n",
       "    </tr>\n",
       "    <tr>\n",
       "      <th>4</th>\n",
       "      <td>1</td>\n",
       "      <td>0</td>\n",
       "      <td>0</td>\n",
       "      <td>0</td>\n",
       "      <td>1</td>\n",
       "      <td>3</td>\n",
       "      <td>2</td>\n",
       "      <td>100</td>\n",
       "      <td>113</td>\n",
       "      <td>3374</td>\n",
       "    </tr>\n",
       "    <tr>\n",
       "      <th>...</th>\n",
       "      <td>...</td>\n",
       "      <td>...</td>\n",
       "      <td>...</td>\n",
       "      <td>...</td>\n",
       "      <td>...</td>\n",
       "      <td>...</td>\n",
       "      <td>...</td>\n",
       "      <td>...</td>\n",
       "      <td>...</td>\n",
       "      <td>...</td>\n",
       "    </tr>\n",
       "    <tr>\n",
       "      <th>5105</th>\n",
       "      <td>1</td>\n",
       "      <td>0</td>\n",
       "      <td>0</td>\n",
       "      <td>1</td>\n",
       "      <td>1</td>\n",
       "      <td>2</td>\n",
       "      <td>2</td>\n",
       "      <td>101</td>\n",
       "      <td>143</td>\n",
       "      <td>1360</td>\n",
       "    </tr>\n",
       "    <tr>\n",
       "      <th>5106</th>\n",
       "      <td>0</td>\n",
       "      <td>0</td>\n",
       "      <td>0</td>\n",
       "      <td>1</td>\n",
       "      <td>1</td>\n",
       "      <td>3</td>\n",
       "      <td>2</td>\n",
       "      <td>102</td>\n",
       "      <td>273</td>\n",
       "      <td>3030</td>\n",
       "    </tr>\n",
       "    <tr>\n",
       "      <th>5107</th>\n",
       "      <td>0</td>\n",
       "      <td>0</td>\n",
       "      <td>0</td>\n",
       "      <td>0</td>\n",
       "      <td>1</td>\n",
       "      <td>3</td>\n",
       "      <td>2</td>\n",
       "      <td>56</td>\n",
       "      <td>179</td>\n",
       "      <td>1314</td>\n",
       "    </tr>\n",
       "    <tr>\n",
       "      <th>5108</th>\n",
       "      <td>0</td>\n",
       "      <td>0</td>\n",
       "      <td>1</td>\n",
       "      <td>0</td>\n",
       "      <td>1</td>\n",
       "      <td>2</td>\n",
       "      <td>1</td>\n",
       "      <td>72</td>\n",
       "      <td>129</td>\n",
       "      <td>3363</td>\n",
       "    </tr>\n",
       "    <tr>\n",
       "      <th>5109</th>\n",
       "      <td>0</td>\n",
       "      <td>0</td>\n",
       "      <td>0</td>\n",
       "      <td>1</td>\n",
       "      <td>1</td>\n",
       "      <td>0</td>\n",
       "      <td>0</td>\n",
       "      <td>65</td>\n",
       "      <td>135</td>\n",
       "      <td>1454</td>\n",
       "    </tr>\n",
       "  </tbody>\n",
       "</table>\n",
       "<p>5110 rows × 10 columns</p>\n",
       "</div>"
      ],
      "text/plain": [
       "      hypertension  heart_disease  gender_encode  Residence_type_encode  \\\n",
       "0                0              1              1                      1   \n",
       "1                0              0              0                      0   \n",
       "2                0              1              1                      0   \n",
       "3                0              0              0                      1   \n",
       "4                1              0              0                      0   \n",
       "...            ...            ...            ...                    ...   \n",
       "5105             1              0              0                      1   \n",
       "5106             0              0              0                      1   \n",
       "5107             0              0              0                      0   \n",
       "5108             0              0              1                      0   \n",
       "5109             0              0              0                      1   \n",
       "\n",
       "      ever_married_encode  work_type_encode  smoking_status_encode  \\\n",
       "0                       1                 2                      1   \n",
       "1                       1                 3                      2   \n",
       "2                       1                 2                      2   \n",
       "3                       1                 2                      3   \n",
       "4                       1                 3                      2   \n",
       "...                   ...               ...                    ...   \n",
       "5105                    1                 2                      2   \n",
       "5106                    1                 3                      2   \n",
       "5107                    1                 3                      2   \n",
       "5108                    1                 2                      1   \n",
       "5109                    1                 0                      0   \n",
       "\n",
       "      age_encode  bmi_encode  avg_glucose_level_encode  \n",
       "0             88         239                      3374  \n",
       "1             82         183                      3374  \n",
       "2            101         198                      2483  \n",
       "3             70         217                      3374  \n",
       "4            100         113                      3374  \n",
       "...          ...         ...                       ...  \n",
       "5105         101         143                      1360  \n",
       "5106         102         273                      3030  \n",
       "5107          56         179                      1314  \n",
       "5108          72         129                      3363  \n",
       "5109          65         135                      1454  \n",
       "\n",
       "[5110 rows x 10 columns]"
      ]
     },
     "execution_count": 66,
     "metadata": {},
     "output_type": "execute_result"
    }
   ],
   "source": [
    "X"
   ]
  },
  {
   "cell_type": "code",
   "execution_count": 67,
   "metadata": {},
   "outputs": [
    {
     "data": {
      "text/plain": [
       "0       1\n",
       "1       1\n",
       "2       1\n",
       "3       1\n",
       "4       1\n",
       "       ..\n",
       "5105    1\n",
       "5106    1\n",
       "5107    0\n",
       "5108    0\n",
       "5109    0\n",
       "Name: stroke, Length: 5110, dtype: int64"
      ]
     },
     "execution_count": 67,
     "metadata": {},
     "output_type": "execute_result"
    }
   ],
   "source": [
    "y"
   ]
  },
  {
   "cell_type": "markdown",
   "metadata": {},
   "source": [
    "#splitting the data into train and test "
   ]
  },
  {
   "cell_type": "code",
   "execution_count": 68,
   "metadata": {},
   "outputs": [],
   "source": [
    "from sklearn.model_selection import train_test_split\n",
    "X_train, X_test,y_train, y_test=train_test_split(X,y,test_size=0.3, random_state=1)"
   ]
  },
  {
   "cell_type": "code",
   "execution_count": 69,
   "metadata": {},
   "outputs": [],
   "source": [
    "X_train, X_test,y_train, y_test=train_test_split(df_cleaned[[\"age_encode\",\"hypertension\",\"heart_disease\",\"avg_glucose_level_encode\",\"bmi_encode\",\"gender_encode\",\"Residence_type_encode\",\"ever_married_encode\",\"work_type_encode\",\"smoking_status_encode\"]],df_cleaned['stroke'],test_size=0.3, random_state=1)"
   ]
  },
  {
   "cell_type": "code",
   "execution_count": 70,
   "metadata": {},
   "outputs": [
    {
     "data": {
      "text/plain": [
       "(array([1.08533637e+03, 2.96733805e+01, 2.35123842e+01, 3.13142441e+03,\n",
       "        1.48533955e+02, 4.69979511e-01, 2.59286386e-01, 7.18812506e+00,\n",
       "        2.84876499e+00, 3.96983995e-01]),\n",
       " array([5.08113504e-238, 5.11321697e-008, 1.24112306e-006, 0.00000000e+000,\n",
       "        3.62587109e-034, 4.92996595e-001, 6.10610841e-001, 7.33876245e-003,\n",
       "        9.14441583e-002, 5.28650972e-001]))"
      ]
     },
     "execution_count": 70,
     "metadata": {},
     "output_type": "execute_result"
    }
   ],
   "source": [
    "#calculating f_score\n",
    "from sklearn.feature_selection import SelectKBest\n",
    "from sklearn.feature_selection import chi2\n",
    "f_score=chi2(X_train,y_train)\n",
    "f_score\n",
    "#F-score,2nd array is the p-values the smaller the p-value the more significant or higher feature priority"
   ]
  },
  {
   "cell_type": "code",
   "execution_count": 71,
   "metadata": {},
   "outputs": [
    {
     "data": {
      "text/plain": [
       "array([5.08113504e-238, 5.11321697e-008, 1.24112306e-006, 0.00000000e+000,\n",
       "       3.62587109e-034, 4.92996595e-001, 6.10610841e-001, 7.33876245e-003,\n",
       "       9.14441583e-002, 5.28650972e-001])"
      ]
     },
     "execution_count": 71,
     "metadata": {},
     "output_type": "execute_result"
    }
   ],
   "source": [
    "#calculating pvalues\n",
    "pvalues=f_score[1]\n",
    "pvalues"
   ]
  },
  {
   "cell_type": "code",
   "execution_count": 72,
   "metadata": {},
   "outputs": [],
   "source": [
    "#as mentioned earlier the smaller the pvalue the greater the significance\n",
    "#so here"
   ]
  },
  {
   "cell_type": "code",
   "execution_count": 73,
   "metadata": {},
   "outputs": [
    {
     "data": {
      "text/plain": [
       "avg_glucose_level_encode     0.000000e+00\n",
       "age_encode                  5.081135e-238\n",
       "bmi_encode                   3.625871e-34\n",
       "hypertension                 5.113217e-08\n",
       "heart_disease                1.241123e-06\n",
       "ever_married_encode          7.338762e-03\n",
       "work_type_encode             9.144416e-02\n",
       "gender_encode                4.929966e-01\n",
       "smoking_status_encode        5.286510e-01\n",
       "Residence_type_encode        6.106108e-01\n",
       "dtype: float64"
      ]
     },
     "execution_count": 73,
     "metadata": {},
     "output_type": "execute_result"
    }
   ],
   "source": [
    "pvalues=pd.Series(f_score[1])\n",
    "pvalues.index=X_train.columns #display with column at begining\n",
    "pvalues.sort_values(ascending=True)"
   ]
  },
  {
   "cell_type": "code",
   "execution_count": 74,
   "metadata": {},
   "outputs": [
    {
     "name": "stdout",
     "output_type": "stream",
     "text": [
      "Empty DataFrame\n",
      "Columns: [age_encode, hypertension, heart_disease, avg_glucose_level_encode, bmi_encode, gender_encode, Residence_type_encode, ever_married_encode, work_type_encode, smoking_status_encode]\n",
      "Index: [] Index(['hypertension', 'heart_disease', 'stroke', 'gender_encode',\n",
      "       'Residence_type_encode', 'ever_married_encode', 'work_type_encode',\n",
      "       'smoking_status_encode', 'age_encode', 'bmi_encode',\n",
      "       'avg_glucose_level_encode'],\n",
      "      dtype='object')\n"
     ]
    }
   ],
   "source": [
    "print(X_train.head(0),df_cleaned.columns)"
   ]
  },
  {
   "cell_type": "code",
   "execution_count": 75,
   "metadata": {},
   "outputs": [],
   "source": [
    "# from here we do feature selection i.e we select the features that have strongest relation with the prediction variable."
   ]
  },
  {
   "cell_type": "code",
   "execution_count": 76,
   "metadata": {},
   "outputs": [
    {
     "name": "stdout",
     "output_type": "stream",
     "text": [
      " age_encode: 1085.336368\n",
      " hypertension: 29.673380\n",
      " heart_disease: 23.512384\n",
      " avg_glucose_level_encode: 3131.424412\n",
      " bmi_encode: 148.533955\n",
      " gender_encode: 0.469980\n",
      " Residence_type_encode: 0.259286\n",
      " ever_married_encode: 7.188125\n",
      " work_type_encode: 2.848765\n",
      " smoking_status_encode: 0.396984\n"
     ]
    }
   ],
   "source": [
    "from sklearn.feature_selection import SelectKBest\n",
    "predictors=X_train.head(0)\n",
    "selector=SelectKBest(chi2,k=6)\n",
    "sf_fit=selector.fit(X_train,y_train)\n",
    "#print feature scores\n",
    "for i in range(len(sf_fit.scores_)):\n",
    "    #print((X_train.columns[i],':', sf_fit.scores_[i]))\n",
    "    print(' %s: %f' % (X_train.columns[i], sf_fit.scores_[i]))"
   ]
  },
  {
   "cell_type": "code",
   "execution_count": 77,
   "metadata": {},
   "outputs": [
    {
     "name": "stderr",
     "output_type": "stream",
     "text": [
      "C:\\ProgramData\\Anaconda3\\lib\\site-packages\\seaborn\\_decorators.py:36: FutureWarning: Pass the following variables as keyword args: x, y. From version 0.12, the only valid positional argument will be `data`, and passing other arguments without an explicit keyword will result in an error or misinterpretation.\n",
      "  warnings.warn(\n"
     ]
    },
    {
     "data": {
      "text/plain": [
       "<function matplotlib.pyplot.show(close=None, block=None)>"
      ]
     },
     "execution_count": 77,
     "metadata": {},
     "output_type": "execute_result"
    },
    {
     "data": {
      "image/png": "[encoded data removed]",
      "text/plain": [
       "<Figure size 432x288 with 1 Axes>"
      ]
     },
     "metadata": {
      "needs_background": "light"
     },
     "output_type": "display_data"
    }
   ],
   "source": [
    "datset=pd.DataFrame()\n",
    "datset['feature']=X.columns[range(len(sf_fit.scores_))]\n",
    "datset['scores']=sf_fit.scores_\n",
    "datset=datset.sort_values(by='scores',ascending=False)\n",
    "sns.barplot(datset['scores'],datset['feature'],color='turquoise')\n",
    "#sns.set_style('whitegrid')\n",
    "plt.xlabel('Scores',fontsize=18)\n",
    "plt.ylabel('Categorical Feature', fontsize=18)\n",
    "plt.show"
   ]
  },
  {
   "cell_type": "code",
   "execution_count": 78,
   "metadata": {},
   "outputs": [
    {
     "data": {
      "text/plain": [
       "avg_glucose_level_encode    3131.424412\n",
       "age_encode                  1085.336368\n",
       "bmi_encode                   148.533955\n",
       "hypertension                  29.673380\n",
       "heart_disease                 23.512384\n",
       "ever_married_encode            7.188125\n",
       "work_type_encode               2.848765\n",
       "gender_encode                  0.469980\n",
       "smoking_status_encode          0.396984\n",
       "Residence_type_encode          0.259286\n",
       "dtype: float64"
      ]
     },
     "execution_count": 78,
     "metadata": {},
     "output_type": "execute_result"
    }
   ],
   "source": [
    "fscore=pd.Series(f_score[0])\n",
    "fscore.index=X_train.columns\n",
    "fscr=fscore.sort_values(ascending=False)\n",
    "fscr"
   ]
  },
  {
   "cell_type": "code",
   "execution_count": 79,
   "metadata": {},
   "outputs": [
    {
     "data": {
      "text/plain": [
       "Index(['age_encode', 'hypertension', 'heart_disease',\n",
       "       'avg_glucose_level_encode', 'bmi_encode', 'ever_married_encode',\n",
       "       'work_type_encode'],\n",
       "      dtype='object')"
      ]
     },
     "execution_count": 79,
     "metadata": {},
     "output_type": "execute_result"
    }
   ],
   "source": [
    "best=SelectKBest(chi2,k=7).fit(X_train,y_train)\n",
    "X_train.columns[best.get_support()]"
   ]
  },
  {
   "cell_type": "code",
   "execution_count": 80,
   "metadata": {},
   "outputs": [],
   "source": [
    "X_train=best.transform(X_train) #remove other features\n",
    "X_train=best.transform(X_test)"
   ]
  },
  {
   "cell_type": "code",
   "execution_count": 81,
   "metadata": {},
   "outputs": [
    {
     "data": {
      "text/html": [
       "<div>\n",
       "<style scoped>\n",
       "    .dataframe tbody tr th:only-of-type {\n",
       "        vertical-align: middle;\n",
       "    }\n",
       "\n",
       "    .dataframe tbody tr th {\n",
       "        vertical-align: top;\n",
       "    }\n",
       "\n",
       "    .dataframe thead th {\n",
       "        text-align: right;\n",
       "    }\n",
       "</style>\n",
       "<table border=\"1\" class=\"dataframe\">\n",
       "  <thead>\n",
       "    <tr style=\"text-align: right;\">\n",
       "      <th></th>\n",
       "      <th>hypertension</th>\n",
       "      <th>heart_disease</th>\n",
       "      <th>stroke</th>\n",
       "      <th>gender_encode</th>\n",
       "      <th>Residence_type_encode</th>\n",
       "      <th>ever_married_encode</th>\n",
       "      <th>work_type_encode</th>\n",
       "      <th>smoking_status_encode</th>\n",
       "      <th>age_encode</th>\n",
       "      <th>bmi_encode</th>\n",
       "      <th>avg_glucose_level_encode</th>\n",
       "      <th>Work_Type_0</th>\n",
       "      <th>Work_Type_1</th>\n",
       "      <th>Work_Type_2</th>\n",
       "      <th>Work_Type_3</th>\n",
       "      <th>Work_Type_4</th>\n",
       "    </tr>\n",
       "  </thead>\n",
       "  <tbody>\n",
       "    <tr>\n",
       "      <th>0</th>\n",
       "      <td>0</td>\n",
       "      <td>1</td>\n",
       "      <td>1</td>\n",
       "      <td>1</td>\n",
       "      <td>1</td>\n",
       "      <td>1</td>\n",
       "      <td>2</td>\n",
       "      <td>1</td>\n",
       "      <td>88</td>\n",
       "      <td>239</td>\n",
       "      <td>3374</td>\n",
       "      <td>0</td>\n",
       "      <td>0</td>\n",
       "      <td>1</td>\n",
       "      <td>0</td>\n",
       "      <td>0</td>\n",
       "    </tr>\n",
       "    <tr>\n",
       "      <th>1</th>\n",
       "      <td>0</td>\n",
       "      <td>0</td>\n",
       "      <td>1</td>\n",
       "      <td>0</td>\n",
       "      <td>0</td>\n",
       "      <td>1</td>\n",
       "      <td>3</td>\n",
       "      <td>2</td>\n",
       "      <td>82</td>\n",
       "      <td>183</td>\n",
       "      <td>3374</td>\n",
       "      <td>0</td>\n",
       "      <td>0</td>\n",
       "      <td>0</td>\n",
       "      <td>1</td>\n",
       "      <td>0</td>\n",
       "    </tr>\n",
       "    <tr>\n",
       "      <th>2</th>\n",
       "      <td>0</td>\n",
       "      <td>1</td>\n",
       "      <td>1</td>\n",
       "      <td>1</td>\n",
       "      <td>0</td>\n",
       "      <td>1</td>\n",
       "      <td>2</td>\n",
       "      <td>2</td>\n",
       "      <td>101</td>\n",
       "      <td>198</td>\n",
       "      <td>2483</td>\n",
       "      <td>0</td>\n",
       "      <td>0</td>\n",
       "      <td>1</td>\n",
       "      <td>0</td>\n",
       "      <td>0</td>\n",
       "    </tr>\n",
       "    <tr>\n",
       "      <th>3</th>\n",
       "      <td>0</td>\n",
       "      <td>0</td>\n",
       "      <td>1</td>\n",
       "      <td>0</td>\n",
       "      <td>1</td>\n",
       "      <td>1</td>\n",
       "      <td>2</td>\n",
       "      <td>3</td>\n",
       "      <td>70</td>\n",
       "      <td>217</td>\n",
       "      <td>3374</td>\n",
       "      <td>0</td>\n",
       "      <td>0</td>\n",
       "      <td>1</td>\n",
       "      <td>0</td>\n",
       "      <td>0</td>\n",
       "    </tr>\n",
       "    <tr>\n",
       "      <th>4</th>\n",
       "      <td>1</td>\n",
       "      <td>0</td>\n",
       "      <td>1</td>\n",
       "      <td>0</td>\n",
       "      <td>0</td>\n",
       "      <td>1</td>\n",
       "      <td>3</td>\n",
       "      <td>2</td>\n",
       "      <td>100</td>\n",
       "      <td>113</td>\n",
       "      <td>3374</td>\n",
       "      <td>0</td>\n",
       "      <td>0</td>\n",
       "      <td>0</td>\n",
       "      <td>1</td>\n",
       "      <td>0</td>\n",
       "    </tr>\n",
       "    <tr>\n",
       "      <th>...</th>\n",
       "      <td>...</td>\n",
       "      <td>...</td>\n",
       "      <td>...</td>\n",
       "      <td>...</td>\n",
       "      <td>...</td>\n",
       "      <td>...</td>\n",
       "      <td>...</td>\n",
       "      <td>...</td>\n",
       "      <td>...</td>\n",
       "      <td>...</td>\n",
       "      <td>...</td>\n",
       "      <td>...</td>\n",
       "      <td>...</td>\n",
       "      <td>...</td>\n",
       "      <td>...</td>\n",
       "      <td>...</td>\n",
       "    </tr>\n",
       "    <tr>\n",
       "      <th>5105</th>\n",
       "      <td>1</td>\n",
       "      <td>0</td>\n",
       "      <td>1</td>\n",
       "      <td>0</td>\n",
       "      <td>1</td>\n",
       "      <td>1</td>\n",
       "      <td>2</td>\n",
       "      <td>2</td>\n",
       "      <td>101</td>\n",
       "      <td>143</td>\n",
       "      <td>1360</td>\n",
       "      <td>0</td>\n",
       "      <td>0</td>\n",
       "      <td>1</td>\n",
       "      <td>0</td>\n",
       "      <td>0</td>\n",
       "    </tr>\n",
       "    <tr>\n",
       "      <th>5106</th>\n",
       "      <td>0</td>\n",
       "      <td>0</td>\n",
       "      <td>1</td>\n",
       "      <td>0</td>\n",
       "      <td>1</td>\n",
       "      <td>1</td>\n",
       "      <td>3</td>\n",
       "      <td>2</td>\n",
       "      <td>102</td>\n",
       "      <td>273</td>\n",
       "      <td>3030</td>\n",
       "      <td>0</td>\n",
       "      <td>0</td>\n",
       "      <td>0</td>\n",
       "      <td>1</td>\n",
       "      <td>0</td>\n",
       "    </tr>\n",
       "    <tr>\n",
       "      <th>5107</th>\n",
       "      <td>0</td>\n",
       "      <td>0</td>\n",
       "      <td>0</td>\n",
       "      <td>0</td>\n",
       "      <td>0</td>\n",
       "      <td>1</td>\n",
       "      <td>3</td>\n",
       "      <td>2</td>\n",
       "      <td>56</td>\n",
       "      <td>179</td>\n",
       "      <td>1314</td>\n",
       "      <td>0</td>\n",
       "      <td>0</td>\n",
       "      <td>0</td>\n",
       "      <td>1</td>\n",
       "      <td>0</td>\n",
       "    </tr>\n",
       "    <tr>\n",
       "      <th>5108</th>\n",
       "      <td>0</td>\n",
       "      <td>0</td>\n",
       "      <td>0</td>\n",
       "      <td>1</td>\n",
       "      <td>0</td>\n",
       "      <td>1</td>\n",
       "      <td>2</td>\n",
       "      <td>1</td>\n",
       "      <td>72</td>\n",
       "      <td>129</td>\n",
       "      <td>3363</td>\n",
       "      <td>0</td>\n",
       "      <td>0</td>\n",
       "      <td>1</td>\n",
       "      <td>0</td>\n",
       "      <td>0</td>\n",
       "    </tr>\n",
       "    <tr>\n",
       "      <th>5109</th>\n",
       "      <td>0</td>\n",
       "      <td>0</td>\n",
       "      <td>0</td>\n",
       "      <td>0</td>\n",
       "      <td>1</td>\n",
       "      <td>1</td>\n",
       "      <td>0</td>\n",
       "      <td>0</td>\n",
       "      <td>65</td>\n",
       "      <td>135</td>\n",
       "      <td>1454</td>\n",
       "      <td>1</td>\n",
       "      <td>0</td>\n",
       "      <td>0</td>\n",
       "      <td>0</td>\n",
       "      <td>0</td>\n",
       "    </tr>\n",
       "  </tbody>\n",
       "</table>\n",
       "<p>5110 rows × 16 columns</p>\n",
       "</div>"
      ],
      "text/plain": [
       "      hypertension  heart_disease  stroke  gender_encode  \\\n",
       "0                0              1       1              1   \n",
       "1                0              0       1              0   \n",
       "2                0              1       1              1   \n",
       "3                0              0       1              0   \n",
       "4                1              0       1              0   \n",
       "...            ...            ...     ...            ...   \n",
       "5105             1              0       1              0   \n",
       "5106             0              0       1              0   \n",
       "5107             0              0       0              0   \n",
       "5108             0              0       0              1   \n",
       "5109             0              0       0              0   \n",
       "\n",
       "      Residence_type_encode  ever_married_encode  work_type_encode  \\\n",
       "0                         1                    1                 2   \n",
       "1                         0                    1                 3   \n",
       "2                         0                    1                 2   \n",
       "3                         1                    1                 2   \n",
       "4                         0                    1                 3   \n",
       "...                     ...                  ...               ...   \n",
       "5105                      1                    1                 2   \n",
       "5106                      1                    1                 3   \n",
       "5107                      0                    1                 3   \n",
       "5108                      0                    1                 2   \n",
       "5109                      1                    1                 0   \n",
       "\n",
       "      smoking_status_encode  age_encode  bmi_encode  avg_glucose_level_encode  \\\n",
       "0                         1          88         239                      3374   \n",
       "1                         2          82         183                      3374   \n",
       "2                         2         101         198                      2483   \n",
       "3                         3          70         217                      3374   \n",
       "4                         2         100         113                      3374   \n",
       "...                     ...         ...         ...                       ...   \n",
       "5105                      2         101         143                      1360   \n",
       "5106                      2         102         273                      3030   \n",
       "5107                      2          56         179                      1314   \n",
       "5108                      1          72         129                      3363   \n",
       "5109                      0          65         135                      1454   \n",
       "\n",
       "      Work_Type_0  Work_Type_1  Work_Type_2  Work_Type_3  Work_Type_4  \n",
       "0               0            0            1            0            0  \n",
       "1               0            0            0            1            0  \n",
       "2               0            0            1            0            0  \n",
       "3               0            0            1            0            0  \n",
       "4               0            0            0            1            0  \n",
       "...           ...          ...          ...          ...          ...  \n",
       "5105            0            0            1            0            0  \n",
       "5106            0            0            0            1            0  \n",
       "5107            0            0            0            1            0  \n",
       "5108            0            0            1            0            0  \n",
       "5109            1            0            0            0            0  \n",
       "\n",
       "[5110 rows x 16 columns]"
      ]
     },
     "execution_count": 81,
     "metadata": {},
     "output_type": "execute_result"
    }
   ],
   "source": [
    "df_cleaned=pd.concat([df_cleaned,pd.get_dummies(df_cleaned['work_type_encode'],prefix='Work_Type')],axis=1)\n",
    "df_cleaned"
   ]
  },
  {
   "cell_type": "code",
   "execution_count": 82,
   "metadata": {},
   "outputs": [
    {
     "data": {
      "text/html": [
       "<div>\n",
       "<style scoped>\n",
       "    .dataframe tbody tr th:only-of-type {\n",
       "        vertical-align: middle;\n",
       "    }\n",
       "\n",
       "    .dataframe tbody tr th {\n",
       "        vertical-align: top;\n",
       "    }\n",
       "\n",
       "    .dataframe thead th {\n",
       "        text-align: right;\n",
       "    }\n",
       "</style>\n",
       "<table border=\"1\" class=\"dataframe\">\n",
       "  <thead>\n",
       "    <tr style=\"text-align: right;\">\n",
       "      <th></th>\n",
       "      <th>hypertension</th>\n",
       "      <th>heart_disease</th>\n",
       "      <th>stroke</th>\n",
       "      <th>gender_encode</th>\n",
       "      <th>Residence_type_encode</th>\n",
       "      <th>ever_married_encode</th>\n",
       "      <th>smoking_status_encode</th>\n",
       "      <th>age_encode</th>\n",
       "      <th>bmi_encode</th>\n",
       "      <th>avg_glucose_level_encode</th>\n",
       "      <th>Work_Type_0</th>\n",
       "      <th>Work_Type_1</th>\n",
       "      <th>Work_Type_2</th>\n",
       "      <th>Work_Type_3</th>\n",
       "      <th>Work_Type_4</th>\n",
       "    </tr>\n",
       "  </thead>\n",
       "  <tbody>\n",
       "    <tr>\n",
       "      <th>0</th>\n",
       "      <td>0</td>\n",
       "      <td>1</td>\n",
       "      <td>1</td>\n",
       "      <td>1</td>\n",
       "      <td>1</td>\n",
       "      <td>1</td>\n",
       "      <td>1</td>\n",
       "      <td>88</td>\n",
       "      <td>239</td>\n",
       "      <td>3374</td>\n",
       "      <td>0</td>\n",
       "      <td>0</td>\n",
       "      <td>1</td>\n",
       "      <td>0</td>\n",
       "      <td>0</td>\n",
       "    </tr>\n",
       "    <tr>\n",
       "      <th>1</th>\n",
       "      <td>0</td>\n",
       "      <td>0</td>\n",
       "      <td>1</td>\n",
       "      <td>0</td>\n",
       "      <td>0</td>\n",
       "      <td>1</td>\n",
       "      <td>2</td>\n",
       "      <td>82</td>\n",
       "      <td>183</td>\n",
       "      <td>3374</td>\n",
       "      <td>0</td>\n",
       "      <td>0</td>\n",
       "      <td>0</td>\n",
       "      <td>1</td>\n",
       "      <td>0</td>\n",
       "    </tr>\n",
       "    <tr>\n",
       "      <th>2</th>\n",
       "      <td>0</td>\n",
       "      <td>1</td>\n",
       "      <td>1</td>\n",
       "      <td>1</td>\n",
       "      <td>0</td>\n",
       "      <td>1</td>\n",
       "      <td>2</td>\n",
       "      <td>101</td>\n",
       "      <td>198</td>\n",
       "      <td>2483</td>\n",
       "      <td>0</td>\n",
       "      <td>0</td>\n",
       "      <td>1</td>\n",
       "      <td>0</td>\n",
       "      <td>0</td>\n",
       "    </tr>\n",
       "    <tr>\n",
       "      <th>3</th>\n",
       "      <td>0</td>\n",
       "      <td>0</td>\n",
       "      <td>1</td>\n",
       "      <td>0</td>\n",
       "      <td>1</td>\n",
       "      <td>1</td>\n",
       "      <td>3</td>\n",
       "      <td>70</td>\n",
       "      <td>217</td>\n",
       "      <td>3374</td>\n",
       "      <td>0</td>\n",
       "      <td>0</td>\n",
       "      <td>1</td>\n",
       "      <td>0</td>\n",
       "      <td>0</td>\n",
       "    </tr>\n",
       "    <tr>\n",
       "      <th>4</th>\n",
       "      <td>1</td>\n",
       "      <td>0</td>\n",
       "      <td>1</td>\n",
       "      <td>0</td>\n",
       "      <td>0</td>\n",
       "      <td>1</td>\n",
       "      <td>2</td>\n",
       "      <td>100</td>\n",
       "      <td>113</td>\n",
       "      <td>3374</td>\n",
       "      <td>0</td>\n",
       "      <td>0</td>\n",
       "      <td>0</td>\n",
       "      <td>1</td>\n",
       "      <td>0</td>\n",
       "    </tr>\n",
       "    <tr>\n",
       "      <th>...</th>\n",
       "      <td>...</td>\n",
       "      <td>...</td>\n",
       "      <td>...</td>\n",
       "      <td>...</td>\n",
       "      <td>...</td>\n",
       "      <td>...</td>\n",
       "      <td>...</td>\n",
       "      <td>...</td>\n",
       "      <td>...</td>\n",
       "      <td>...</td>\n",
       "      <td>...</td>\n",
       "      <td>...</td>\n",
       "      <td>...</td>\n",
       "      <td>...</td>\n",
       "      <td>...</td>\n",
       "    </tr>\n",
       "    <tr>\n",
       "      <th>5105</th>\n",
       "      <td>1</td>\n",
       "      <td>0</td>\n",
       "      <td>1</td>\n",
       "      <td>0</td>\n",
       "      <td>1</td>\n",
       "      <td>1</td>\n",
       "      <td>2</td>\n",
       "      <td>101</td>\n",
       "      <td>143</td>\n",
       "      <td>1360</td>\n",
       "      <td>0</td>\n",
       "      <td>0</td>\n",
       "      <td>1</td>\n",
       "      <td>0</td>\n",
       "      <td>0</td>\n",
       "    </tr>\n",
       "    <tr>\n",
       "      <th>5106</th>\n",
       "      <td>0</td>\n",
       "      <td>0</td>\n",
       "      <td>1</td>\n",
       "      <td>0</td>\n",
       "      <td>1</td>\n",
       "      <td>1</td>\n",
       "      <td>2</td>\n",
       "      <td>102</td>\n",
       "      <td>273</td>\n",
       "      <td>3030</td>\n",
       "      <td>0</td>\n",
       "      <td>0</td>\n",
       "      <td>0</td>\n",
       "      <td>1</td>\n",
       "      <td>0</td>\n",
       "    </tr>\n",
       "    <tr>\n",
       "      <th>5107</th>\n",
       "      <td>0</td>\n",
       "      <td>0</td>\n",
       "      <td>0</td>\n",
       "      <td>0</td>\n",
       "      <td>0</td>\n",
       "      <td>1</td>\n",
       "      <td>2</td>\n",
       "      <td>56</td>\n",
       "      <td>179</td>\n",
       "      <td>1314</td>\n",
       "      <td>0</td>\n",
       "      <td>0</td>\n",
       "      <td>0</td>\n",
       "      <td>1</td>\n",
       "      <td>0</td>\n",
       "    </tr>\n",
       "    <tr>\n",
       "      <th>5108</th>\n",
       "      <td>0</td>\n",
       "      <td>0</td>\n",
       "      <td>0</td>\n",
       "      <td>1</td>\n",
       "      <td>0</td>\n",
       "      <td>1</td>\n",
       "      <td>1</td>\n",
       "      <td>72</td>\n",
       "      <td>129</td>\n",
       "      <td>3363</td>\n",
       "      <td>0</td>\n",
       "      <td>0</td>\n",
       "      <td>1</td>\n",
       "      <td>0</td>\n",
       "      <td>0</td>\n",
       "    </tr>\n",
       "    <tr>\n",
       "      <th>5109</th>\n",
       "      <td>0</td>\n",
       "      <td>0</td>\n",
       "      <td>0</td>\n",
       "      <td>0</td>\n",
       "      <td>1</td>\n",
       "      <td>1</td>\n",
       "      <td>0</td>\n",
       "      <td>65</td>\n",
       "      <td>135</td>\n",
       "      <td>1454</td>\n",
       "      <td>1</td>\n",
       "      <td>0</td>\n",
       "      <td>0</td>\n",
       "      <td>0</td>\n",
       "      <td>0</td>\n",
       "    </tr>\n",
       "  </tbody>\n",
       "</table>\n",
       "<p>5110 rows × 15 columns</p>\n",
       "</div>"
      ],
      "text/plain": [
       "      hypertension  heart_disease  stroke  gender_encode  \\\n",
       "0                0              1       1              1   \n",
       "1                0              0       1              0   \n",
       "2                0              1       1              1   \n",
       "3                0              0       1              0   \n",
       "4                1              0       1              0   \n",
       "...            ...            ...     ...            ...   \n",
       "5105             1              0       1              0   \n",
       "5106             0              0       1              0   \n",
       "5107             0              0       0              0   \n",
       "5108             0              0       0              1   \n",
       "5109             0              0       0              0   \n",
       "\n",
       "      Residence_type_encode  ever_married_encode  smoking_status_encode  \\\n",
       "0                         1                    1                      1   \n",
       "1                         0                    1                      2   \n",
       "2                         0                    1                      2   \n",
       "3                         1                    1                      3   \n",
       "4                         0                    1                      2   \n",
       "...                     ...                  ...                    ...   \n",
       "5105                      1                    1                      2   \n",
       "5106                      1                    1                      2   \n",
       "5107                      0                    1                      2   \n",
       "5108                      0                    1                      1   \n",
       "5109                      1                    1                      0   \n",
       "\n",
       "      age_encode  bmi_encode  avg_glucose_level_encode  Work_Type_0  \\\n",
       "0             88         239                      3374            0   \n",
       "1             82         183                      3374            0   \n",
       "2            101         198                      2483            0   \n",
       "3             70         217                      3374            0   \n",
       "4            100         113                      3374            0   \n",
       "...          ...         ...                       ...          ...   \n",
       "5105         101         143                      1360            0   \n",
       "5106         102         273                      3030            0   \n",
       "5107          56         179                      1314            0   \n",
       "5108          72         129                      3363            0   \n",
       "5109          65         135                      1454            1   \n",
       "\n",
       "      Work_Type_1  Work_Type_2  Work_Type_3  Work_Type_4  \n",
       "0               0            1            0            0  \n",
       "1               0            0            1            0  \n",
       "2               0            1            0            0  \n",
       "3               0            1            0            0  \n",
       "4               0            0            1            0  \n",
       "...           ...          ...          ...          ...  \n",
       "5105            0            1            0            0  \n",
       "5106            0            0            1            0  \n",
       "5107            0            0            1            0  \n",
       "5108            0            1            0            0  \n",
       "5109            0            0            0            0  \n",
       "\n",
       "[5110 rows x 15 columns]"
      ]
     },
     "execution_count": 82,
     "metadata": {},
     "output_type": "execute_result"
    }
   ],
   "source": [
    "df_cleaned.drop(['work_type_encode'],axis=1)"
   ]
  },
  {
   "cell_type": "code",
   "execution_count": 83,
   "metadata": {},
   "outputs": [],
   "source": [
    "df_cleaned.to_csv(\"C:\\\\Users\\\\blaise correia\\\\Documents\\\\sally\\\\df_cleaned21_sdata.csv\")"
   ]
  },
  {
   "cell_type": "markdown",
   "metadata": {},
   "source": [
    "# Random Forest Classifier"
   ]
  },
  {
   "cell_type": "code",
   "execution_count": 84,
   "metadata": {},
   "outputs": [],
   "source": [
    "#this are the libraries we import for random forest classifier\n",
    "from sklearn.pipeline import make_pipeline\n",
    "from sklearn.preprocessing import StandardScaler\n",
    "from sklearn.svm import SVC\n",
    "from sklearn.model_selection import cross_val_score\n",
    "from sklearn.ensemble import RandomForestClassifier\n",
    "import pandas as pd\n",
    "import numpy as np"
   ]
  },
  {
   "cell_type": "code",
   "execution_count": 85,
   "metadata": {},
   "outputs": [
    {
     "name": "stdout",
     "output_type": "stream",
     "text": [
      "Cross Validation accuracy scores: [0.97206704 0.98044693 0.97486034 0.98882682 0.97765363 0.97765363\n",
      " 0.96927374 0.97478992 0.97478992 0.9719888 ]\n",
      "Cross Validation accuracy: 0.976 +/- 0.005\n"
     ]
    }
   ],
   "source": [
    "#create an instance of pipeline\n",
    "pipeline = make_pipeline(RandomForestClassifier(n_estimators=100, max_depth=4))\n",
    "#pass instance of pipeline and training and test data set\n",
    "#cv=10 represents the Stratified with 10 folds i.e dividing training data into 10 parts\n",
    "df_cleaned=pd.read_csv(\"C:\\\\Users\\\\blaise correia\\\\Documents\\\\sally\\\\df_cleaned21_sd.csv\")\n",
    "X = df_cleaned.drop(\"stroke\", axis=1) #all feature variables\n",
    "y = df_cleaned[\"stroke\"] #only target variable\n",
    "from sklearn.model_selection import train_test_split\n",
    "X_train, X_test, y_train, y_test = train_test_split(X, y, test_size=0.3, random_state=1)\n",
    "scores = cross_val_score(pipeline, X=X_train, y=y_train, cv=10, n_jobs=1) #pipeline means sequence\n",
    "print('Cross Validation accuracy scores: %s' % scores)\n",
    "print('Cross Validation accuracy: %.3f +/- %.3f' % (np.mean(scores), np.std(scores)))"
   ]
  },
  {
   "cell_type": "code",
   "execution_count": 86,
   "metadata": {},
   "outputs": [
    {
     "name": "stdout",
     "output_type": "stream",
     "text": [
      "Mean: 0.9762350750356008  Stdev: 0.005198525474810085\n"
     ]
    }
   ],
   "source": [
    "print('Mean:',np.mean(scores),' Stdev:',np.std(scores))"
   ]
  },
  {
   "cell_type": "markdown",
   "metadata": {},
   "source": [
    "#From here we can see that Random forest classifier gives 97.62% accuracy."
   ]
  },
  {
   "cell_type": "markdown",
   "metadata": {},
   "source": [
    "# Logistic Regression"
   ]
  },
  {
   "cell_type": "code",
   "execution_count": 88,
   "metadata": {},
   "outputs": [
    {
     "name": "stdout",
     "output_type": "stream",
     "text": [
      "[[1429    0]\n",
      " [  98    6]]\n"
     ]
    }
   ],
   "source": [
    "from sklearn.linear_model import LogisticRegression\n",
    "logit=LogisticRegression(solver='lbfgs', max_iter=1000)\n",
    "logit.fit(X_train,y_train)\n",
    "y_predict=logit.predict(X_test)\n",
    "y_predict\n",
    "\n",
    "from sklearn.metrics import  confusion_matrix\n",
    "cm=confusion_matrix(y_test,y_predict)#confusion matrix\n",
    "print(cm)"
   ]
  },
  {
   "cell_type": "code",
   "execution_count": 89,
   "metadata": {},
   "outputs": [],
   "source": [
    "# 1429 are true positive(i.e 1429 of them had stroke and was detected correctly) \n",
    "#0 are false negative(i.e none of them had store and were falsely detected as no stroke) \n",
    "#98 are false positive(i.e 98 of them did not have stroke still were falsely given as stroke) \n",
    "# 6 are true negative (i.e they did not have stroke has had was detected the same)"
   ]
  },
  {
   "cell_type": "code",
   "execution_count": 90,
   "metadata": {},
   "outputs": [
    {
     "name": "stdout",
     "output_type": "stream",
     "text": [
      "[0.00000000e+00 0.00000000e+00 0.00000000e+00 6.99790063e-04\n",
      " 6.99790063e-04 1.39958013e-03 1.39958013e-03 2.09937019e-03\n",
      " 2.09937019e-03 2.79916025e-03 2.79916025e-03 3.49895031e-03\n",
      " 3.49895031e-03 4.19874038e-03 4.19874038e-03 6.29811057e-03\n",
      " 6.29811057e-03 7.69769069e-03 7.69769069e-03 8.39748076e-03\n",
      " 8.39748076e-03 9.09727082e-03 9.09727082e-03 9.79706088e-03\n",
      " 9.79706088e-03 1.04968509e-02 1.04968509e-02 1.11966410e-02\n",
      " 1.11966410e-02 1.18964311e-02 1.18964311e-02 1.32960112e-02\n",
      " 1.32960112e-02 1.39958013e-02 1.39958013e-02 1.46955913e-02\n",
      " 1.46955913e-02 1.74947516e-02 1.74947516e-02 1.95941218e-02\n",
      " 1.95941218e-02 2.79916025e-02 2.79916025e-02 3.00909727e-02\n",
      " 3.00909727e-02 3.21903429e-02 3.21903429e-02 3.49895031e-02\n",
      " 3.49895031e-02 3.98880336e-02 3.98880336e-02 4.12876137e-02\n",
      " 4.12876137e-02 4.19874038e-02 4.19874038e-02 4.47865640e-02\n",
      " 4.47865640e-02 4.61861442e-02 4.61861442e-02 4.96850945e-02\n",
      " 4.96850945e-02 5.80825752e-02 5.80825752e-02 6.08817355e-02\n",
      " 6.08817355e-02 6.78796361e-02 6.78796361e-02 1.18964311e-01\n",
      " 1.18964311e-01 1.19664101e-01 1.19664101e-01 1.32260322e-01\n",
      " 1.32260322e-01 1.38558432e-01 1.38558432e-01 1.72148355e-01\n",
      " 1.72148355e-01 3.59692092e-01 3.59692092e-01 3.86284115e-01\n",
      " 3.86284115e-01 4.15675297e-01 4.15675297e-01 5.01049685e-01\n",
      " 5.01049685e-01 5.87123863e-01 5.87123863e-01 5.89223233e-01\n",
      " 5.89223233e-01 6.46606018e-01 6.46606018e-01 6.65500350e-01\n",
      " 6.65500350e-01 6.94891533e-01 6.94891533e-01 7.22183345e-01\n",
      " 7.22183345e-01 7.31980406e-01 7.31980406e-01 7.44576627e-01\n",
      " 7.44576627e-01 7.52974108e-01 7.52974108e-01 7.80965710e-01\n",
      " 7.80965710e-01 8.32050385e-01 8.32050385e-01 8.92932120e-01\n",
      " 8.92932120e-01 9.04828551e-01 9.04828551e-01 9.30720784e-01\n",
      " 9.30720784e-01 9.53813856e-01 9.53813856e-01 9.78306508e-01\n",
      " 9.78306508e-01 9.90202939e-01 9.90202939e-01 1.00000000e+00]\n",
      "################True positive rate###############\n",
      "[0.         0.00961538 0.08653846 0.08653846 0.14423077 0.14423077\n",
      " 0.17307692 0.17307692 0.22115385 0.22115385 0.23076923 0.23076923\n",
      " 0.30769231 0.30769231 0.31730769 0.31730769 0.32692308 0.32692308\n",
      " 0.35576923 0.35576923 0.375      0.375      0.38461538 0.38461538\n",
      " 0.45192308 0.45192308 0.46153846 0.46153846 0.49038462 0.49038462\n",
      " 0.51923077 0.51923077 0.52884615 0.52884615 0.54807692 0.54807692\n",
      " 0.56730769 0.56730769 0.57692308 0.57692308 0.58653846 0.58653846\n",
      " 0.59615385 0.59615385 0.60576923 0.60576923 0.61538462 0.61538462\n",
      " 0.625      0.625      0.63461538 0.63461538 0.64423077 0.64423077\n",
      " 0.66346154 0.66346154 0.68269231 0.68269231 0.69230769 0.69230769\n",
      " 0.70192308 0.70192308 0.71153846 0.71153846 0.72115385 0.72115385\n",
      " 0.73076923 0.73076923 0.74038462 0.74038462 0.75       0.75\n",
      " 0.75961538 0.75961538 0.76923077 0.76923077 0.77884615 0.77884615\n",
      " 0.78846154 0.78846154 0.79807692 0.79807692 0.80769231 0.80769231\n",
      " 0.81730769 0.81730769 0.82692308 0.82692308 0.83653846 0.83653846\n",
      " 0.84615385 0.84615385 0.85576923 0.85576923 0.86538462 0.86538462\n",
      " 0.88461538 0.88461538 0.89423077 0.89423077 0.90384615 0.90384615\n",
      " 0.91346154 0.91346154 0.92307692 0.92307692 0.93269231 0.93269231\n",
      " 0.94230769 0.94230769 0.95192308 0.95192308 0.96153846 0.96153846\n",
      " 0.97115385 0.97115385 0.99038462 0.99038462 1.         1.        ]\n"
     ]
    }
   ],
   "source": [
    "from sklearn.metrics import roc_auc_score,roc_curve\n",
    "fpr,tpr,threshholds=roc_curve(y_test,logit.predict_proba(X_test)[:,1])\n",
    "print(fpr) #fpr:false positive rate tpr:true positive rate\n",
    "print(\"################True positive rate###############\")\n",
    "print(tpr)"
   ]
  },
  {
   "cell_type": "code",
   "execution_count": 91,
   "metadata": {},
   "outputs": [
    {
     "data": {
      "text/plain": [
       "0.5288461538461539"
      ]
     },
     "execution_count": 91,
     "metadata": {},
     "output_type": "execute_result"
    }
   ],
   "source": [
    "logit_roc_auc=roc_auc_score(y_test,logit.predict(X_test))\n",
    "logit_roc_auc"
   ]
  },
  {
   "cell_type": "markdown",
   "metadata": {},
   "source": [
    "Logistic regression gives accuracy of 52.88%"
   ]
  },
  {
   "cell_type": "markdown",
   "metadata": {},
   "source": [
    "graph of FPR VS TPR"
   ]
  },
  {
   "cell_type": "code",
   "execution_count": 92,
   "metadata": {},
   "outputs": [
    {
     "data": {
      "image/png": "[encoded data removed]",
      "text/plain": [
       "<Figure size 720x504 with 1 Axes>"
      ]
     },
     "metadata": {
      "needs_background": "light"
     },
     "output_type": "display_data"
    }
   ],
   "source": [
    "import matplotlib.pyplot as plt\n",
    "plt.figure(figsize=(10,7))\n",
    "plt.plot(fpr,tpr,label=logit_roc_auc)\n",
    "plt.plot([0,1],[0,1],'r--')  # r is red in --\n",
    "plt.xlabel(\"FPR\")\n",
    "plt.ylabel(\"TPR\")\n",
    "plt.legend(loc=\"lower right\")\n",
    "plt.show()\n"
   ]
  },
  {
   "cell_type": "markdown",
   "metadata": {},
   "source": [
    "Confusion Matrix"
   ]
  },
  {
   "cell_type": "code",
   "execution_count": 93,
   "metadata": {},
   "outputs": [
    {
     "data": {
      "image/png": "[encoded data removed]",
      "text/plain": [
       "<Figure size 432x288 with 1 Axes>"
      ]
     },
     "metadata": {
      "needs_background": "light"
     },
     "output_type": "display_data"
    }
   ],
   "source": [
    "plt.clf()\n",
    "plt.imshow(cm,interpolation='nearest',cmap=plt.cm.Wistia)\n",
    "classNames=['Negative','Positive']\n",
    "plt.title('stroke or non stroke')\n",
    "plt.xlabel('Predicted label')\n",
    "plt.ylabel('True Label')\n",
    "tick_marks=np.arange(len(classNames))\n",
    "plt.xticks(tick_marks,classNames,rotation=45)\n",
    "plt.yticks(tick_marks,classNames)\n",
    "s=[['TN','FP'],['FN','TP']]\n",
    "for i in range(2):\n",
    "    for j in range(2):\n",
    "        plt.text(j,i,str(s[i][j])+\"=\"+str(cm[i][j]))\n",
    "plt.show()"
   ]
  },
  {
   "cell_type": "markdown",
   "metadata": {},
   "source": [
    "# Support vector machine"
   ]
  },
  {
   "cell_type": "code",
   "execution_count": 94,
   "metadata": {},
   "outputs": [],
   "source": [
    "svm_classifier = SVC(kernel=\"poly\",degree=8)"
   ]
  },
  {
   "cell_type": "code",
   "execution_count": 95,
   "metadata": {},
   "outputs": [
    {
     "data": {
      "text/plain": [
       "SVC(degree=8, kernel='poly')"
      ]
     },
     "execution_count": 95,
     "metadata": {},
     "output_type": "execute_result"
    }
   ],
   "source": [
    "svm_classifier.fit(X_train,y_train)"
   ]
  },
  {
   "cell_type": "code",
   "execution_count": 96,
   "metadata": {},
   "outputs": [],
   "source": [
    "prediction = svm_classifier.predict(X_test)"
   ]
  },
  {
   "cell_type": "code",
   "execution_count": 97,
   "metadata": {},
   "outputs": [],
   "source": [
    "from sklearn.metrics import classification_report,confusion_matrix,accuracy_score"
   ]
  },
  {
   "cell_type": "code",
   "execution_count": 98,
   "metadata": {},
   "outputs": [
    {
     "name": "stdout",
     "output_type": "stream",
     "text": [
      "[[1429    0]\n",
      " [ 104    0]]\n"
     ]
    }
   ],
   "source": [
    "print(confusion_matrix(y_test,prediction))"
   ]
  },
  {
   "cell_type": "code",
   "execution_count": 99,
   "metadata": {},
   "outputs": [
    {
     "name": "stdout",
     "output_type": "stream",
     "text": [
      "0.9321591650358774\n"
     ]
    }
   ],
   "source": [
    "print(accuracy_score(y_test,prediction))"
   ]
  },
  {
   "cell_type": "code",
   "execution_count": 100,
   "metadata": {},
   "outputs": [
    {
     "name": "stdout",
     "output_type": "stream",
     "text": [
      "[[1424    5]\n",
      " [  26   78]]\n",
      "0.9797782126549249\n"
     ]
    }
   ],
   "source": [
    "svm_classifier = SVC(kernel=\"rbf\")\n",
    "svm_classifier.fit(X_train,y_train)\n",
    "prediction = svm_classifier.predict(X_test)\n",
    "print(confusion_matrix(y_test,prediction))\n",
    "print(accuracy_score(y_test,prediction))"
   ]
  },
  {
   "cell_type": "markdown",
   "metadata": {},
   "source": [
    "#when we use kernel as rbf we get accuracy of 97.97%"
   ]
  },
  {
   "cell_type": "code",
   "execution_count": 101,
   "metadata": {},
   "outputs": [
    {
     "name": "stdout",
     "output_type": "stream",
     "text": [
      "[[1429    0]\n",
      " [ 104    0]]\n",
      "0.9321591650358774\n"
     ]
    }
   ],
   "source": [
    "svm_classifier = SVC(kernel=\"sigmoid\")\n",
    "svm_classifier.fit(X_train,y_train)\n",
    "prediction = svm_classifier.predict(X_test)\n",
    "print(confusion_matrix(y_test,prediction))\n",
    "print(accuracy_score(y_test,prediction))"
   ]
  },
  {
   "cell_type": "markdown",
   "metadata": {},
   "source": [
    "#In SVM when we use kernel as sigmoid it gives Accuracy of 93.21%"
   ]
  },
  {
   "cell_type": "code",
   "execution_count": 102,
   "metadata": {},
   "outputs": [],
   "source": [
    "#from the algorithms that I have use SVM classifier gives the best result i.e 97.97% with rbf kernel and 93.21% accuracy with sigmoid kernel."
   ]
  },
  {
   "cell_type": "code",
   "execution_count": null,
   "metadata": {},
   "outputs": [],
   "source": []
  }
 ],
 "metadata": {
  "kernelspec": {
   "display_name": "Python 3",
   "language": "python",
   "name": "python3"
  },
  "language_info": {
   "codemirror_mode": {
    "name": "ipython",
    "version": 3
   },
   "file_extension": ".py",
   "mimetype": "text/x-python",
   "name": "python",
   "nbconvert_exporter": "python",
   "pygments_lexer": "ipython3",
   "version": "3.8.5"
  }
 },
 "nbformat": 4,
 "nbformat_minor": 4
}
